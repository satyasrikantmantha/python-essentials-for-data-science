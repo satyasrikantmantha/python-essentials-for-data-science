{
  "nbformat": 4,
  "nbformat_minor": 0,
  "metadata": {
    "colab": {
      "name": "Untitled0.ipynb",
      "provenance": [],
      "authorship_tag": "ABX9TyM4v+Ux8MH55LafnUj8klVq",
      "include_colab_link": true
    },
    "kernelspec": {
      "name": "python3",
      "display_name": "Python 3"
    }
  },
  "cells": [
    {
      "cell_type": "markdown",
      "execution_count": null,
      "metadata": {},
      "outputs": [],
      "source": [
        "## Introduction to Numpy\n",
        "\n",
        "This workbook aims to provide a quick and in-depth introduction to `numpy`. "
      ]
    },
    {
      "cell_type": "code",
      "execution_count": 1,
      "metadata": {},
      "outputs": [],
      "source": [
        "import numpy as np"
      ]
    },
    {
      "cell_type": "markdown",
      "execution_count": null,
      "metadata": {},
      "outputs": [],
      "source": [
        "``from numpy import *``\n",
        "\n",
        "This is not a good idea as `numpy` namespace is large and contains a number of functions which can conflict with standard built-in Python functions (like min and max). As a best practice, it is good to alias the namespace as np, so all the methods of `numpy` would be accessible via the np.<method_name> syntax.  \n"
      ]
    },
    {
      "cell_type": "code",
      "execution_count": 2,
      "metadata": {},
      "outputs": [],
      "source": [
        "my_arr = np.arange(1000000)\n",
        "\n",
        "my_list = list(range(1000000))"
      ]
    },
    {
      "cell_type": "code",
      "execution_count": 3,
      "metadata": {},
      "outputs": [
        {
          "name": "stdout",
          "output_type": "stream",
          "text": "CPU times: user 17.4 ms, sys: 6.32 ms, total: 23.7 ms\nWall time: 23.1 ms\n"
        }
      ],
      "source": [
        "%time for _ in range(10): my_arr2 = my_arr * 2"
      ]
    },
    {
      "cell_type": "code",
      "execution_count": 4,
      "metadata": {},
      "outputs": [
        {
          "name": "stdout",
          "output_type": "stream",
          "text": "CPU times: user 650 ms, sys: 156 ms, total: 806 ms\nWall time: 816 ms\n"
        }
      ],
      "source": [
        "%time for _ in range(10): my_list2 = [x * 2 for x in my_list]"
      ]
    },
    {
      "cell_type": "markdown",
      "execution_count": null,
      "metadata": {},
      "outputs": [],
      "source": [
        "*** Generating Random Data ***"
      ]
    },
    {
      "cell_type": "code",
      "execution_count": 5,
      "metadata": {},
      "outputs": [],
      "source": [
        "data = np.random.randn(2,3) #Sample from Standard Normal Distribution"
      ]
    },
    {
      "cell_type": "code",
      "execution_count": 6,
      "metadata": {},
      "outputs": [
        {
          "data": {
            "text/plain": "array([[-0.02011543, -1.82746148,  0.15227316],\n       [-0.10798547, -1.05172216,  0.03996201]])"
          },
          "execution_count": 6,
          "metadata": {},
          "output_type": "execute_result"
        }
      ],
      "source": [
        "data"
      ]
    },
    {
      "cell_type": "code",
      "execution_count": 7,
      "metadata": {},
      "outputs": [
        {
          "data": {
            "text/plain": "array([[ -0.20115434, -18.27461476,   1.52273156],\n       [ -1.07985473, -10.51722159,   0.3996201 ]])"
          },
          "execution_count": 7,
          "metadata": {},
          "output_type": "execute_result"
        }
      ],
      "source": [
        "data * 10  # batch mathematical operations can be performed directly. Element-wise multiplication."
      ]
    },
    {
      "cell_type": "code",
      "execution_count": 8,
      "metadata": {},
      "outputs": [
        {
          "data": {
            "text/plain": "array([[-0.04023087, -3.65492295,  0.30454631],\n       [-0.21597095, -2.10344432,  0.07992402]])"
          },
          "execution_count": 8,
          "metadata": {},
          "output_type": "execute_result"
        }
      ],
      "source": [
        "data + data # Element-wise addition."
      ]
    },
    {
      "cell_type": "markdown",
      "execution_count": null,
      "metadata": {},
      "outputs": [],
      "source": [
        "## `ndarray` Multi-dimensional Arrays\n",
        "\n",
        "An `ndarray` is a generic-multidimensional container for homogenous data. In simple terms, all the elements should be of same type. For example, all ints, all floats etc.\n",
        "\n",
        "Every array has a `shape` property, which is a tuple describing the dimensions. "
      ]
    },
    {
      "cell_type": "code",
      "execution_count": 9,
      "metadata": {},
      "outputs": [
        {
          "data": {
            "text/plain": "(2, 3)"
          },
          "execution_count": 9,
          "metadata": {},
          "output_type": "execute_result"
        }
      ],
      "source": [
        "data.shape #2 rows, 3 columns"
      ]
    },
    {
      "cell_type": "markdown",
      "execution_count": null,
      "metadata": {},
      "outputs": [],
      "source": [
        "The `dtype` property describes the data type of the array."
      ]
    },
    {
      "cell_type": "code",
      "execution_count": 10,
      "metadata": {},
      "outputs": [
        {
          "data": {
            "text/plain": "dtype('float64')"
          },
          "execution_count": 10,
          "metadata": {},
          "output_type": "execute_result"
        }
      ],
      "source": [
        "data.dtype # in this case it is float64"
      ]
    },
    {
      "cell_type": "markdown",
      "execution_count": null,
      "metadata": {},
      "outputs": [],
      "source": [
        "### Creating `ndarray`\n",
        "\n",
        "To create an array the `array` function can be used. A simple list can be converted into `ndarray`."
      ]
    },
    {
      "cell_type": "code",
      "execution_count": 12,
      "metadata": {},
      "outputs": [
        {
          "name": "stdout",
          "output_type": "stream",
          "text": "Array: [1 2 3 4 5 6]\nType : <class 'numpy.ndarray'>\n"
        }
      ],
      "source": [
        "data1 = [1,2,3,4,5,6]\n",
        "\n",
        "arr1 = np.array(data1)\n",
        "\n",
        "print('Array: {}'.format(arr1))\n",
        "print('Type : {}'.format(type(arr1)))"
      ]
    },
    {
      "cell_type": "markdown",
      "execution_count": null,
      "metadata": {},
      "outputs": [],
      "source": [
        "Nested sequences will be converted into multi-dimensional lists."
      ]
    },
    {
      "cell_type": "code",
      "execution_count": 11,
      "metadata": {},
      "outputs": [
        {
          "name": "stdout",
          "output_type": "stream",
          "text": "Array: [[ 1  2  3  4  5]\n [ 6  7  8  9 10]]\nType: <class 'numpy.ndarray'>\nType (alternative): int64\nDimension: 2\nShape: (2, 5)\n"
        }
      ],
      "source": [
        "data2 = [[1,2,3,4,5],[6,7,8,9,10]]\n",
        "\n",
        "arr2 = np.array(data2)\n",
        "\n",
        "print('Array: {}'.format(arr2))\n",
        "print('Type: {}'.format(type(arr2)))\n",
        "print('Type (alternative): {}'.format(arr2.dtype))\n",
        "print('Dimension: {}'.format(arr2.ndim))\n",
        "print('Shape: {}'.format(arr2.shape))"
      ]
    },
    {
      "cell_type": "markdown",
      "execution_count": null,
      "metadata": {},
      "outputs": [],
      "source": [
        "In previous example, the nested lists were of same length. What will happen if it is not the case?"
      ]
    },
    {
      "cell_type": "code",
      "execution_count": 13,
      "metadata": {},
      "outputs": [
        {
          "name": "stdout",
          "output_type": "stream",
          "text": "Array: [list([1, 2, 3, 4, 5]) list([6, 7, 8, 9])]\nType: <class 'numpy.ndarray'>\nType (alternative): object\nDimension: 1\nShape: (2,)\n"
        }
      ],
      "source": [
        "data3 = [[1,2,3,4,5],[6,7,8,9]]\n",
        "\n",
        "arr3 = np.array(data3)\n",
        "\n",
        "print('Array: {}'.format(arr3))\n",
        "print('Type: {}'.format(type(arr3)))\n",
        "print('Type (alternative): {}'.format(arr3.dtype))\n",
        "print('Dimension: {}'.format(arr3.ndim))\n",
        "print('Shape: {}'.format(arr3.shape))\n"
      ]
    },
    {
      "cell_type": "markdown",
      "execution_count": null,
      "metadata": {},
      "outputs": [],
      "source": [
        "*** Notice, since the length of the lists is not the same. The numpy module created a single dimensional array of lists, instead of multi-dimensional array. ***\n",
        "\n",
        "> *** Important: *** While creating a numpy array from individual list remember this check.\n",
        "\n"
      ]
    },
    {
      "cell_type": "markdown",
      "execution_count": null,
      "metadata": {},
      "outputs": [],
      "source": [
        "Additionally, you can create initialized arrays using helper methods like `zeros`, `ones` and `empty`.\n",
        "\n",
        "1. `zeros` : Initializes an array of requested shape with all zeros.\n",
        "\n",
        "2. `ones`  : Initializes an array of requested shape with all ones.\n",
        "\n",
        "3. `empty` : Initializes an array of requested shape with *** random values. ***\n",
        " \n",
        " To create higher order arrays pass in tuple with shape specification.\n",
        " \n",
        " Let's look at an illustration."
      ]
    },
    {
      "cell_type": "code",
      "execution_count": 14,
      "metadata": {},
      "outputs": [
        {
          "name": "stdout",
          "output_type": "stream",
          "text": "Array : [0. 0. 0. 0. 0. 0. 0. 0. 0. 0.]\nDimension: 1\nShape: (10,)\n"
        }
      ],
      "source": [
        "z1 = np.zeros(10)\n",
        "print('Array : {}'.format(z1))\n",
        "print('Dimension: {}'.format(z1.ndim))\n",
        "print('Shape: {}'.format(z1.shape))"
      ]
    },
    {
      "cell_type": "code",
      "execution_count": 15,
      "metadata": {},
      "outputs": [
        {
          "name": "stdout",
          "output_type": "stream",
          "text": "Array : [[0. 0. 0.]\n [0. 0. 0.]]\nDimension: 2\nShape: (2, 3)\n"
        }
      ],
      "source": [
        "z2 = np.zeros((2,3))\n",
        "print('Array : {}'.format(z2))\n",
        "print('Dimension: {}'.format(z2.ndim))\n",
        "print('Shape: {}'.format(z2.shape))"
      ]
    },
    {
      "cell_type": "code",
      "execution_count": 16,
      "metadata": {},
      "outputs": [
        {
          "name": "stdout",
          "output_type": "stream",
          "text": "Array : [[1. 1. 1.]\n [1. 1. 1.]]\nDimension: 2\nShape: (2, 3)\n"
        }
      ],
      "source": [
        "o1 = np.ones((2,3))\n",
        "print('Array : {}'.format(o1))\n",
        "print('Dimension: {}'.format(o1.ndim))\n",
        "print('Shape: {}'.format(o1.shape))"
      ]
    },
    {
      "cell_type": "code",
      "execution_count": 17,
      "metadata": {},
      "outputs": [
        {
          "name": "stdout",
          "output_type": "stream",
          "text": "Array : [[1. 1. 1.]\n [1. 1. 1.]]\nDimension: 2\nShape: (2, 3)\n"
        }
      ],
      "source": [
        "e1 = np.empty((2,3))\n",
        "print('Array : {}'.format(e1))\n",
        "print('Dimension: {}'.format(e1.ndim))\n",
        "print('Shape: {}'.format(e1.shape))"
      ]
    },
    {
      "cell_type": "markdown",
      "execution_count": null,
      "metadata": {},
      "outputs": [],
      "source": [
        "*** Note: *** It is not necessary that the values will be either 0, or 1 they can be random in case of `np.empty` (garbage values)."
      ]
    },
    {
      "cell_type": "markdown",
      "execution_count": null,
      "metadata": {},
      "outputs": [],
      "source": [
        "`arange` is array-valued version of Python's `range` function."
      ]
    },
    {
      "cell_type": "code",
      "execution_count": 18,
      "metadata": {},
      "outputs": [
        {
          "data": {
            "text/plain": "array([0, 1, 2, 3, 4, 5, 6, 7, 8, 9])"
          },
          "execution_count": 18,
          "metadata": {},
          "output_type": "execute_result"
        }
      ],
      "source": [
        "np.arange(10)"
      ]
    },
    {
      "cell_type": "markdown",
      "execution_count": null,
      "metadata": {},
      "outputs": [],
      "source": [
        "*** Array Creation Functions ***\n",
        "\n",
        "| Function | Description |\n",
        "|----------|-------------|\n",
        "| array    | Convert input data (list, tuple, array, or other sequence to array) |\n",
        "| asarray  | Comvert input to ndarray, but do not copy if it is already a ndarray |\n",
        "| arange   | Built-in range function, returns ndarray instead of list.    |\n",
        "| ones     | Array of 1's with given shape and size. |\n",
        "| ones_like | Create ndarray of ones matching shape and size of input array |\n",
        "| zeros    | Array of O's with given shape and size. |\n",
        "| zeros_like | Create ndarray of zeros matching shape and size of input array |\n",
        "| empty    | Array of random (garbage) data with given shape and size. |\n",
        "| empty_like | Create ndarray of random (garbage) data matching shape and size of input array |\n",
        "| full    | Array of given element data indicated by \"fill value\" of given shape and size. |\n",
        "| full_like | Create ndarray of rgiven element data indicated by \"fill value\" matching shape and size of input array |\n",
        "| eye, identity | Create a square NxN matrix ()\n",
        "\n"
      ]
    },
    {
      "cell_type": "markdown",
      "execution_count": null,
      "metadata": {},
      "outputs": [],
      "source": [
        "## Data Types for ndarrays\n",
        "\n",
        "The *data type* or *dtype* is a special object containing the information (or metadata about the data). Different types of Numpy data types supported are:\n",
        "\n",
        "int8, uint8, int16, uint16, int32, uint32, int64, uint64, float16, float32, float64, float128, complex64, complex128, complex256, bool, object, string_, unicode_\n",
        "\n",
        "Explicit, type-casting of an array can be done using the `astype` method.\n"
      ]
    },
    {
      "cell_type": "code",
      "execution_count": 19,
      "metadata": {},
      "outputs": [
        {
          "name": "stdout",
          "output_type": "stream",
          "text": "Initial DataType : int64\nConverted DataType : float64\n"
        }
      ],
      "source": [
        "arr = np.array([1,2,3,4,5])\n",
        "print('Initial DataType : {}'.format(arr.dtype))\n",
        "float_arr = arr.astype(np.float64)\n",
        "print('Converted DataType : {}'.format(float_arr.dtype))"
      ]
    },
    {
      "cell_type": "markdown",
      "execution_count": null,
      "metadata": {},
      "outputs": [],
      "source": [
        "The above example is converting int to floating point. *** Note: *** When casting from floating-point to int, the decimal part is truncated. This is a typical *down-casting* behaviour which is lossy in nature (irreversible). That is you loose the information represented by the decimal part, and it cannot be recovered by converting int to float again. The context of the problem to be solved is important. "
      ]
    },
    {
      "cell_type": "code",
      "execution_count": 20,
      "metadata": {},
      "outputs": [
        {
          "name": "stdout",
          "output_type": "stream",
          "text": "Initial DataType : float64\nConverted DataType: [ 3  2  0  0 12 11]\n"
        }
      ],
      "source": [
        "arr = np.array([3.7,2.8, -0.5, 0.5, 12.1, 11.4])\n",
        "print('Initial DataType : {}'.format(arr.dtype))\n",
        "int_arr = arr.astype(np.int)\n",
        "print('Converted DataType: {}'.format(int_arr)) # Note there is no rounding."
      ]
    },
    {
      "cell_type": "code",
      "execution_count": 21,
      "metadata": {},
      "outputs": [
        {
          "data": {
            "text/plain": "array([ 1.25, -9.6 , 42.  ])"
          },
          "execution_count": 21,
          "metadata": {},
          "output_type": "execute_result"
        }
      ],
      "source": [
        "numeric_string = np.array(['1.25', '-9.6', '42'], dtype=np.string_)\n",
        "numeric_string.astype(np.float)"
      ]
    },
    {
      "cell_type": "markdown",
      "execution_count": null,
      "metadata": {},
      "outputs": [],
      "source": [
        "*** Calling `astype` *always* creates a new array (a copy of the data), even if the new dtype is teh same as the old dtype."
      ]
    },
    {
      "cell_type": "markdown",
      "execution_count": null,
      "metadata": {},
      "outputs": [],
      "source": [
        "## Arithmetic with NumPy Arrays\n",
        "\n",
        "Batch operations can be done on data without writing any for loops. This is called as *vectorization*.  The arrays need to be of equal-size for these operations."
      ]
    },
    {
      "cell_type": "code",
      "execution_count": 22,
      "metadata": {},
      "outputs": [
        {
          "data": {
            "text/plain": "array([[1., 2., 3.],\n       [4., 5., 6.]])"
          },
          "execution_count": 22,
          "metadata": {},
          "output_type": "execute_result"
        }
      ],
      "source": [
        "arr = np.array([[1., 2., 3.], [4., 5., 6.]])\n",
        "arr"
      ]
    },
    {
      "cell_type": "code",
      "execution_count": 24,
      "metadata": {},
      "outputs": [
        {
          "data": {
            "text/plain": "array([[ 1.,  4.,  9.],\n       [16., 25., 36.]])"
          },
          "execution_count": 24,
          "metadata": {},
          "output_type": "execute_result"
        }
      ],
      "source": [
        "arr * arr #Element-wise operations or vectorization"
      ]
    },
    {
      "cell_type": "code",
      "execution_count": 23,
      "metadata": {},
      "outputs": [
        {
          "data": {
            "text/plain": "array([[0., 0., 0.],\n       [0., 0., 0.]])"
          },
          "execution_count": 23,
          "metadata": {},
          "output_type": "execute_result"
        }
      ],
      "source": [
        "arr - arr"
      ]
    },
    {
      "cell_type": "markdown",
      "execution_count": null,
      "metadata": {},
      "outputs": [],
      "source": [
        "*** Scalar Operations ***"
      ]
    },
    {
      "cell_type": "code",
      "execution_count": 25,
      "metadata": {},
      "outputs": [
        {
          "data": {
            "text/plain": "array([[1.        , 0.5       , 0.33333333],\n       [0.25      , 0.2       , 0.16666667]])"
          },
          "execution_count": 25,
          "metadata": {},
          "output_type": "execute_result"
        }
      ],
      "source": [
        "1/arr"
      ]
    },
    {
      "cell_type": "code",
      "execution_count": 26,
      "metadata": {},
      "outputs": [
        {
          "data": {
            "text/plain": "array([[1.        , 1.41421356, 1.73205081],\n       [2.        , 2.23606798, 2.44948974]])"
          },
          "execution_count": 26,
          "metadata": {},
          "output_type": "execute_result"
        }
      ],
      "source": [
        "arr ** 0.5 "
      ]
    },
    {
      "cell_type": "markdown",
      "execution_count": null,
      "metadata": {},
      "outputs": [],
      "source": [
        "Comparison between ndarrays result in ndarray ofsame shape and dimension."
      ]
    },
    {
      "cell_type": "code",
      "execution_count": 27,
      "metadata": {},
      "outputs": [
        {
          "data": {
            "text/plain": "array([[ 0.,  4.,  1.],\n       [ 7.,  2., 12.]])"
          },
          "execution_count": 27,
          "metadata": {},
          "output_type": "execute_result"
        }
      ],
      "source": [
        "arr2 = np.array([[0., 4., 1.],[7., 2., 12.]])\n",
        "arr2"
      ]
    },
    {
      "cell_type": "code",
      "execution_count": 28,
      "metadata": {},
      "outputs": [
        {
          "data": {
            "text/plain": "array([[False,  True, False],\n       [ True, False,  True]])"
          },
          "execution_count": 28,
          "metadata": {},
          "output_type": "execute_result"
        }
      ],
      "source": [
        "arr2 > arr"
      ]
    },
    {
      "cell_type": "markdown",
      "execution_count": null,
      "metadata": {},
      "outputs": [],
      "source": [
        "Basic Indexing and Slicing"
      ]
    },
    {
      "cell_type": "code",
      "execution_count": 29,
      "metadata": {},
      "outputs": [
        {
          "data": {
            "text/plain": "array([0, 1, 2, 3, 4, 5, 6, 7, 8, 9])"
          },
          "execution_count": 29,
          "metadata": {},
          "output_type": "execute_result"
        }
      ],
      "source": [
        " arr = np.arange(10)\n",
        " arr"
      ]
    },
    {
      "cell_type": "code",
      "execution_count": 30,
      "metadata": {},
      "outputs": [
        {
          "data": {
            "text/plain": "5"
          },
          "execution_count": 30,
          "metadata": {},
          "output_type": "execute_result"
        }
      ],
      "source": [
        "arr[5] #6th element in the array"
      ]
    },
    {
      "cell_type": "code",
      "execution_count": 31,
      "metadata": {},
      "outputs": [
        {
          "data": {
            "text/plain": "array([5, 6, 7])"
          },
          "execution_count": 31,
          "metadata": {},
          "output_type": "execute_result"
        }
      ],
      "source": [
        "arr[5:8]"
      ]
    },
    {
      "cell_type": "code",
      "execution_count": 32,
      "metadata": {},
      "outputs": [],
      "source": [
        "arr[5:8] = 12 # This will broadcast the value to the selection, and update the list."
      ]
    },
    {
      "cell_type": "code",
      "execution_count": 33,
      "metadata": {},
      "outputs": [
        {
          "data": {
            "text/plain": "array([ 0,  1,  2,  3,  4, 12, 12, 12,  8,  9])"
          },
          "execution_count": 33,
          "metadata": {},
          "output_type": "execute_result"
        }
      ],
      "source": [
        "arr # Notice the index positions 5:8 are updated in original array."
      ]
    },
    {
      "cell_type": "markdown",
      "execution_count": null,
      "metadata": {},
      "outputs": [],
      "source": [
        "*Note:* Array slices are *views*, the data is not copied and any modifications to the view will be reflected in the source array. "
      ]
    },
    {
      "cell_type": "code",
      "execution_count": 34,
      "metadata": {},
      "outputs": [
        {
          "data": {
            "text/plain": "array([12, 12, 12])"
          },
          "execution_count": 34,
          "metadata": {},
          "output_type": "execute_result"
        }
      ],
      "source": [
        "arr_slice = arr[5:8]\n",
        "arr_slice"
      ]
    },
    {
      "cell_type": "code",
      "execution_count": 35,
      "metadata": {},
      "outputs": [
        {
          "data": {
            "text/plain": "array([    0,     1,     2,     3,     4,    12, 12345,    12,     8,\n           9])"
          },
          "execution_count": 35,
          "metadata": {},
          "output_type": "execute_result"
        }
      ],
      "source": [
        "arr_slice[1] = 12345\n",
        "arr"
      ]
    },
    {
      "cell_type": "code",
      "execution_count": 36,
      "metadata": {},
      "outputs": [
        {
          "data": {
            "text/plain": "array([ 0,  1,  2,  3,  4, 64, 64, 64,  8,  9])"
          },
          "execution_count": 36,
          "metadata": {},
          "output_type": "execute_result"
        }
      ],
      "source": [
        "arr_slice[:] = 64 # all indexes in slice will be assigned 64\n",
        "arr"
      ]
    },
    {
      "cell_type": "markdown",
      "execution_count": null,
      "metadata": {},
      "outputs": [],
      "source": [
        "If you want a copy of a slice of an ndarray instead of a view, you will need to explicitly copy the array - for example, `arr[5:8].copy()`."
      ]
    },
    {
      "cell_type": "code",
      "execution_count": 62,
      "metadata": {},
      "outputs": [],
      "source": [
        "arr2d = np.array([[1,2,3],[4,5,6],[7,8,9]])"
      ]
    },
    {
      "cell_type": "code",
      "execution_count": 63,
      "metadata": {},
      "outputs": [
        {
          "data": {
            "text/plain": "array([[1, 2, 3],\n       [4, 5, 6],\n       [7, 8, 9]])"
          },
          "execution_count": 63,
          "metadata": {},
          "output_type": "execute_result"
        }
      ],
      "source": [
        "arr2d"
      ]
    },
    {
      "cell_type": "code",
      "execution_count": 64,
      "metadata": {},
      "outputs": [
        {
          "data": {
            "text/plain": "array([7, 8, 9])"
          },
          "execution_count": 64,
          "metadata": {},
          "output_type": "execute_result"
        }
      ],
      "source": [
        "arr2d[2]"
      ]
    },
    {
      "cell_type": "code",
      "execution_count": 65,
      "metadata": {},
      "outputs": [
        {
          "data": {
            "text/plain": "3"
          },
          "execution_count": 65,
          "metadata": {},
          "output_type": "execute_result"
        }
      ],
      "source": [
        "arr2d[0][2]"
      ]
    },
    {
      "cell_type": "code",
      "execution_count": 66,
      "metadata": {},
      "outputs": [
        {
          "data": {
            "text/plain": "3"
          },
          "execution_count": 66,
          "metadata": {},
          "output_type": "execute_result"
        }
      ],
      "source": [
        "arr2d[0, 2] # (rows, column) same as above and concise. Axis 0 = \"Rows\", Axis 1 = \"Columns\"."
      ]
    },
    {
      "cell_type": "markdown",
      "execution_count": null,
      "metadata": {},
      "outputs": [],
      "source": [
        "### Indexing with Slices\n",
        "\n",
        "In Numpy the indexing with slices works much like standard Python like slices."
      ]
    },
    {
      "cell_type": "code",
      "execution_count": 67,
      "metadata": {},
      "outputs": [
        {
          "data": {
            "text/plain": "array([ 0,  1,  2,  3,  4, 64, 64, 64,  8,  9])"
          },
          "execution_count": 67,
          "metadata": {},
          "output_type": "execute_result"
        }
      ],
      "source": [
        "arr"
      ]
    },
    {
      "cell_type": "code",
      "execution_count": 68,
      "metadata": {},
      "outputs": [
        {
          "data": {
            "text/plain": "array([ 1,  2,  3,  4, 64])"
          },
          "execution_count": 68,
          "metadata": {},
          "output_type": "execute_result"
        }
      ],
      "source": [
        "arr[1:6]"
      ]
    },
    {
      "cell_type": "code",
      "execution_count": 69,
      "metadata": {},
      "outputs": [
        {
          "data": {
            "text/plain": "array([[1, 2, 3],\n       [4, 5, 6],\n       [7, 8, 9]])"
          },
          "execution_count": 69,
          "metadata": {},
          "output_type": "execute_result"
        }
      ],
      "source": [
        "arr2d"
      ]
    },
    {
      "cell_type": "code",
      "execution_count": 70,
      "metadata": {},
      "outputs": [
        {
          "data": {
            "text/plain": "array([[1, 2, 3],\n       [4, 5, 6]])"
          },
          "execution_count": 70,
          "metadata": {},
          "output_type": "execute_result"
        }
      ],
      "source": [
        "arr2d[:2]"
      ]
    },
    {
      "cell_type": "markdown",
      "execution_count": null,
      "metadata": {},
      "outputs": [],
      "source": [
        "Multiple slices can be passed just like multiple indexes, and the slices would work on respective axis. "
      ]
    },
    {
      "cell_type": "code",
      "execution_count": 71,
      "metadata": {},
      "outputs": [
        {
          "data": {
            "text/plain": "array([[1, 2, 3],\n       [4, 5, 6]])"
          },
          "execution_count": 71,
          "metadata": {},
          "output_type": "execute_result"
        }
      ],
      "source": [
        "arr2d[:2, ]"
      ]
    },
    {
      "cell_type": "code",
      "execution_count": 72,
      "metadata": {},
      "outputs": [
        {
          "data": {
            "text/plain": "array([[2, 3],\n       [5, 6]])"
          },
          "execution_count": 72,
          "metadata": {},
          "output_type": "execute_result"
        }
      ],
      "source": [
        "arr2d[:2, 1:]"
      ]
    },
    {
      "cell_type": "markdown",
      "execution_count": null,
      "metadata": {},
      "outputs": [],
      "source": [
        "Assignements also work with slices."
      ]
    },
    {
      "cell_type": "code",
      "execution_count": 73,
      "metadata": {},
      "outputs": [
        {
          "data": {
            "text/plain": "array([[1, 0, 0],\n       [4, 0, 0],\n       [7, 8, 9]])"
          },
          "execution_count": 73,
          "metadata": {},
          "output_type": "execute_result"
        }
      ],
      "source": [
        "arr2d[:2, 1:] = 0\n",
        "arr2d"
      ]
    },
    {
      "cell_type": "markdown",
      "execution_count": null,
      "metadata": {},
      "outputs": [],
      "source": [
        "## Boolean Indexing"
      ]
    },
    {
      "cell_type": "code",
      "execution_count": 74,
      "metadata": {},
      "outputs": [],
      "source": [
        "names = np.array(['Bob', 'Joe', 'Will', 'Bob', 'Will', 'Joe', 'Joe'])\n",
        "data = np.random.randn(7,4)"
      ]
    },
    {
      "cell_type": "code",
      "execution_count": 75,
      "metadata": {},
      "outputs": [
        {
          "data": {
            "text/plain": "array(['Bob', 'Joe', 'Will', 'Bob', 'Will', 'Joe', 'Joe'], dtype='<U4')"
          },
          "execution_count": 75,
          "metadata": {},
          "output_type": "execute_result"
        }
      ],
      "source": [
        "names"
      ]
    },
    {
      "cell_type": "code",
      "execution_count": 76,
      "metadata": {},
      "outputs": [
        {
          "data": {
            "text/plain": "array([[ 0.40430751, -0.22607386, -1.71664478, -1.20199625],\n       [ 1.2242563 ,  0.75351702, -0.08157072, -0.49116335],\n       [ 0.1642233 ,  0.11522248,  0.44212813,  0.52408164],\n       [-1.01723423,  0.08714652,  0.77233403, -0.03337033],\n       [-0.34905077,  2.00457051, -1.2266707 ,  0.44645096],\n       [ 0.58761652,  1.01370728, -0.99481037, -0.58019532],\n       [-0.25351247, -0.30593909, -0.49698721,  0.47693796]])"
          },
          "execution_count": 76,
          "metadata": {},
          "output_type": "execute_result"
        }
      ],
      "source": [
        "data"
      ]
    },
    {
      "cell_type": "markdown",
      "execution_count": null,
      "metadata": {},
      "outputs": [],
      "source": [
        "Suppose each name corresponds to a row in the data array and we wanted to select all the rows with corresponding name 'Bob'. Like arithmetic operations '==' comparison can be vectorized."
      ]
    },
    {
      "cell_type": "code",
      "execution_count": 77,
      "metadata": {},
      "outputs": [
        {
          "data": {
            "text/plain": "array([ True, False, False,  True, False, False, False])"
          },
          "execution_count": 77,
          "metadata": {},
          "output_type": "execute_result"
        }
      ],
      "source": [
        "names == 'Bob' #yields array of booleans"
      ]
    },
    {
      "cell_type": "markdown",
      "execution_count": null,
      "metadata": {},
      "outputs": [],
      "source": [
        "This boolean array can be passed when indexing the array. *Note*: The boolean array *must* be of same length as the array axis it's indexing. Otherwise inconsistent results will be obtained which are hard to track. "
      ]
    },
    {
      "cell_type": "code",
      "execution_count": 78,
      "metadata": {},
      "outputs": [
        {
          "data": {
            "text/plain": "array([[ 0.40430751, -0.22607386, -1.71664478, -1.20199625],\n       [-1.01723423,  0.08714652,  0.77233403, -0.03337033]])"
          },
          "execution_count": 78,
          "metadata": {},
          "output_type": "execute_result"
        }
      ],
      "source": [
        "data[ names== 'Bob']"
      ]
    },
    {
      "cell_type": "markdown",
      "execution_count": null,
      "metadata": {},
      "outputs": [],
      "source": [
        "Filtering rows and indexing is possible in one shot."
      ]
    },
    {
      "cell_type": "code",
      "execution_count": 79,
      "metadata": {},
      "outputs": [
        {
          "data": {
            "text/plain": "array([[-1.71664478, -1.20199625],\n       [ 0.77233403, -0.03337033]])"
          },
          "execution_count": 79,
          "metadata": {},
          "output_type": "execute_result"
        }
      ],
      "source": [
        "data[names == 'Bob', 2:]"
      ]
    },
    {
      "cell_type": "code",
      "execution_count": 80,
      "metadata": {},
      "outputs": [
        {
          "data": {
            "text/plain": "array([False,  True,  True, False,  True,  True,  True])"
          },
          "execution_count": 80,
          "metadata": {},
          "output_type": "execute_result"
        }
      ],
      "source": [
        "names != 'Bob'"
      ]
    },
    {
      "cell_type": "code",
      "execution_count": 81,
      "metadata": {},
      "outputs": [
        {
          "data": {
            "text/plain": "array([[ 1.2242563 ,  0.75351702, -0.08157072, -0.49116335],\n       [ 0.1642233 ,  0.11522248,  0.44212813,  0.52408164],\n       [-0.34905077,  2.00457051, -1.2266707 ,  0.44645096],\n       [ 0.58761652,  1.01370728, -0.99481037, -0.58019532],\n       [-0.25351247, -0.30593909, -0.49698721,  0.47693796]])"
          },
          "execution_count": 81,
          "metadata": {},
          "output_type": "execute_result"
        }
      ],
      "source": [
        "data[~(names == 'Bob')] # Notice the ~ operator which is used for negation."
      ]
    },
    {
      "cell_type": "markdown",
      "execution_count": null,
      "metadata": {},
      "outputs": [],
      "source": [
        "Selecting multiple names using & and | operators. Note the standard python `and` and `or` operators do not work with boolean arrays."
      ]
    },
    {
      "cell_type": "code",
      "execution_count": 82,
      "metadata": {},
      "outputs": [
        {
          "data": {
            "text/plain": "array([ True, False,  True,  True,  True, False, False])"
          },
          "execution_count": 82,
          "metadata": {},
          "output_type": "execute_result"
        }
      ],
      "source": [
        "mask = (names == 'Bob') | (names == 'Will')\n",
        "mask"
      ]
    },
    {
      "cell_type": "code",
      "execution_count": 83,
      "metadata": {},
      "outputs": [
        {
          "data": {
            "text/plain": "array([[ 0.40430751, -0.22607386, -1.71664478, -1.20199625],\n       [ 0.1642233 ,  0.11522248,  0.44212813,  0.52408164],\n       [-1.01723423,  0.08714652,  0.77233403, -0.03337033],\n       [-0.34905077,  2.00457051, -1.2266707 ,  0.44645096]])"
          },
          "execution_count": 83,
          "metadata": {},
          "output_type": "execute_result"
        }
      ],
      "source": [
        "data[mask]"
      ]
    },
    {
      "cell_type": "markdown",
      "execution_count": null,
      "metadata": {},
      "outputs": [],
      "source": [
        "Setting boolean values."
      ]
    },
    {
      "cell_type": "code",
      "execution_count": 84,
      "metadata": {},
      "outputs": [],
      "source": [
        "data[data < 0] = 0"
      ]
    },
    {
      "cell_type": "code",
      "execution_count": 85,
      "metadata": {},
      "outputs": [
        {
          "data": {
            "text/plain": "array([[0.40430751, 0.        , 0.        , 0.        ],\n       [1.2242563 , 0.75351702, 0.        , 0.        ],\n       [0.1642233 , 0.11522248, 0.44212813, 0.52408164],\n       [0.        , 0.08714652, 0.77233403, 0.        ],\n       [0.        , 2.00457051, 0.        , 0.44645096],\n       [0.58761652, 1.01370728, 0.        , 0.        ],\n       [0.        , 0.        , 0.        , 0.47693796]])"
          },
          "execution_count": 85,
          "metadata": {},
          "output_type": "execute_result"
        }
      ],
      "source": [
        "data"
      ]
    },
    {
      "cell_type": "code",
      "execution_count": 86,
      "metadata": {},
      "outputs": [
        {
          "data": {
            "text/plain": "array([[7.        , 7.        , 7.        , 7.        ],\n       [1.2242563 , 0.75351702, 0.        , 0.        ],\n       [7.        , 7.        , 7.        , 7.        ],\n       [7.        , 7.        , 7.        , 7.        ],\n       [7.        , 7.        , 7.        , 7.        ],\n       [0.58761652, 1.01370728, 0.        , 0.        ],\n       [0.        , 0.        , 0.        , 0.47693796]])"
          },
          "execution_count": 86,
          "metadata": {},
          "output_type": "execute_result"
        }
      ],
      "source": [
        "data[ names != 'Joe'] = 7\n",
        "data"
      ]
    },
    {
      "cell_type": "code",
      "execution_count": null,
      "metadata": {},
      "outputs": [],
      "source": []
    }
  ]
}