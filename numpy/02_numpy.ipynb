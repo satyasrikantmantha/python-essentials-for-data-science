{
 "nbformat": 4,
 "nbformat_minor": 2,
 "metadata": {
  "language_info": {
   "name": "python",
   "codemirror_mode": {
    "name": "ipython",
    "version": 3
   },
   "version": "3.7.2-final"
  },
  "orig_nbformat": 2,
  "file_extension": ".py",
  "mimetype": "text/x-python",
  "name": "python",
  "npconvert_exporter": "python",
  "pygments_lexer": "ipython3",
  "version": 3,
  "kernelspec": {
   "name": "python37264bitfe456e3150044ea5b581ba935c4bf2bd",
   "display_name": "Python 3.7.2 64-bit"
  }
 },
 "cells": [
  {
   "cell_type": "markdown",
   "execution_count": null,
   "metadata": {},
   "outputs": [],
   "source": [
    "## Fancy Indexing\n",
    "*Fancy indexing* is term adopted by NumPy to describe indexing using interger arrays."
   ]
  },
  {
   "cell_type": "code",
   "execution_count": 1,
   "metadata": {},
   "outputs": [],
   "source": [
    "import numpy as np"
   ]
  },
  {
   "cell_type": "code",
   "execution_count": 2,
   "metadata": {},
   "outputs": [],
   "source": [
    "arr = np.empty((8,4))"
   ]
  },
  {
   "cell_type": "code",
   "execution_count": 4,
   "metadata": {},
   "outputs": [
    {
     "data": {
      "text/plain": "array([[0., 0., 0., 0.],\n       [1., 1., 1., 1.],\n       [2., 2., 2., 2.],\n       [3., 3., 3., 3.],\n       [4., 4., 4., 4.],\n       [5., 5., 5., 5.],\n       [6., 6., 6., 6.],\n       [7., 7., 7., 7.]])"
     },
     "execution_count": 4,
     "metadata": {},
     "output_type": "execute_result"
    }
   ],
   "source": [
    "arr"
   ]
  },
  {
   "cell_type": "code",
   "execution_count": 3,
   "metadata": {},
   "outputs": [],
   "source": [
    "for i in range(8):\n",
    "    arr[i] = i"
   ]
  },
  {
   "cell_type": "code",
   "execution_count": 5,
   "metadata": {},
   "outputs": [
    {
     "data": {
      "text/plain": "array([[0., 0., 0., 0.],\n       [1., 1., 1., 1.],\n       [2., 2., 2., 2.],\n       [3., 3., 3., 3.],\n       [4., 4., 4., 4.],\n       [5., 5., 5., 5.],\n       [6., 6., 6., 6.],\n       [7., 7., 7., 7.]])"
     },
     "execution_count": 5,
     "metadata": {},
     "output_type": "execute_result"
    }
   ],
   "source": [
    "arr"
   ]
  },
  {
   "cell_type": "markdown",
   "execution_count": null,
   "metadata": {},
   "outputs": [],
   "source": [
    "Selecting a subset of rows, simply pass a list of index positions."
   ]
  },
  {
   "cell_type": "code",
   "execution_count": 6,
   "metadata": {},
   "outputs": [
    {
     "data": {
      "text/plain": "array([[4., 4., 4., 4.],\n       [3., 3., 3., 3.],\n       [6., 6., 6., 6.],\n       [1., 1., 1., 1.],\n       [0., 0., 0., 0.]])"
     },
     "execution_count": 6,
     "metadata": {},
     "output_type": "execute_result"
    }
   ],
   "source": [
    "arr[[4,3,6,1,0]]"
   ]
  },
  {
   "cell_type": "markdown",
   "execution_count": null,
   "metadata": {},
   "outputs": [],
   "source": [
    "Negative indexes selects the data from end."
   ]
  },
  {
   "cell_type": "code",
   "execution_count": 7,
   "metadata": {},
   "outputs": [
    {
     "data": {
      "text/plain": "array([[5., 5., 5., 5.],\n       [3., 3., 3., 3.],\n       [1., 1., 1., 1.]])"
     },
     "execution_count": 7,
     "metadata": {},
     "output_type": "execute_result"
    }
   ],
   "source": [
    "arr[[-3,-5,-7]]"
   ]
  },
  {
   "cell_type": "markdown",
   "execution_count": null,
   "metadata": {},
   "outputs": [],
   "source": [
    "Passing multiple arrays, selects one-dimensional array of elements corresponding to each tuple of indices."
   ]
  },
  {
   "cell_type": "code",
   "execution_count": 8,
   "metadata": {},
   "outputs": [
    {
     "data": {
      "text/plain": "array([[ 0,  1,  2,  3],\n       [ 4,  5,  6,  7],\n       [ 8,  9, 10, 11],\n       [12, 13, 14, 15],\n       [16, 17, 18, 19],\n       [20, 21, 22, 23],\n       [24, 25, 26, 27],\n       [28, 29, 30, 31]])"
     },
     "execution_count": 8,
     "metadata": {},
     "output_type": "execute_result"
    }
   ],
   "source": [
    "arr = np.arange(32).reshape((8,4))\n",
    "arr"
   ]
  },
  {
   "cell_type": "code",
   "execution_count": 9,
   "metadata": {},
   "outputs": [
    {
     "data": {
      "text/plain": "array([ 4, 23, 29, 10])"
     },
     "execution_count": 9,
     "metadata": {},
     "output_type": "execute_result"
    }
   ],
   "source": [
    "arr[[1,5,7,2],[0,3,1,2]]"
   ]
  },
  {
   "cell_type": "markdown",
   "execution_count": null,
   "metadata": {},
   "outputs": [],
   "source": [
    "In the above example, the data corresponding to index positions (1, 0), (5, 3), (7, 1), (2, 2) are selected. "
   ]
  },
  {
   "cell_type": "markdown",
   "execution_count": null,
   "metadata": {},
   "outputs": [],
   "source": [
    "## Transposing Arrays and Swapping Axes\n",
    "\n",
    "Transpose of an array can be obtained by calling the `transpose` method or by attribute `T`."
   ]
  },
  {
   "cell_type": "code",
   "execution_count": 10,
   "metadata": {},
   "outputs": [
    {
     "data": {
      "text/plain": "array([[ 0,  1,  2,  3,  4],\n       [ 5,  6,  7,  8,  9],\n       [10, 11, 12, 13, 14]])"
     },
     "execution_count": 10,
     "metadata": {},
     "output_type": "execute_result"
    }
   ],
   "source": [
    "arr = np.arange(15).reshape((3,5))\n",
    "arr"
   ]
  },
  {
   "cell_type": "code",
   "execution_count": 11,
   "metadata": {},
   "outputs": [
    {
     "data": {
      "text/plain": "array([[ 0,  5, 10],\n       [ 1,  6, 11],\n       [ 2,  7, 12],\n       [ 3,  8, 13],\n       [ 4,  9, 14]])"
     },
     "execution_count": 11,
     "metadata": {},
     "output_type": "execute_result"
    }
   ],
   "source": [
    "arr.T"
   ]
  },
  {
   "cell_type": "code",
   "execution_count": 12,
   "metadata": {},
   "outputs": [
    {
     "data": {
      "text/plain": "array([[ 0,  5, 10],\n       [ 1,  6, 11],\n       [ 2,  7, 12],\n       [ 3,  8, 13],\n       [ 4,  9, 14]])"
     },
     "execution_count": 12,
     "metadata": {},
     "output_type": "execute_result"
    }
   ],
   "source": [
    "arr.transpose()"
   ]
  },
  {
   "cell_type": "markdown",
   "execution_count": null,
   "metadata": {},
   "outputs": [],
   "source": [
    "Transpose is a special form of swapping the axes. The `swapaxes` method, takes a pair of numbers and switches the indicated axes to re-arrange the data."
   ]
  },
  {
   "cell_type": "code",
   "execution_count": 13,
   "metadata": {},
   "outputs": [
    {
     "data": {
      "text/plain": "array([[ 0,  1,  2,  3,  4],\n       [ 5,  6,  7,  8,  9],\n       [10, 11, 12, 13, 14]])"
     },
     "execution_count": 13,
     "metadata": {},
     "output_type": "execute_result"
    }
   ],
   "source": [
    "arr"
   ]
  },
  {
   "cell_type": "code",
   "execution_count": 14,
   "metadata": {},
   "outputs": [
    {
     "data": {
      "text/plain": "array([[ 0,  5, 10],\n       [ 1,  6, 11],\n       [ 2,  7, 12],\n       [ 3,  8, 13],\n       [ 4,  9, 14]])"
     },
     "execution_count": 14,
     "metadata": {},
     "output_type": "execute_result"
    }
   ],
   "source": [
    "arr.swapaxes(0, 1) # Same as Transpose in this case."
   ]
  },
  {
   "cell_type": "code",
   "execution_count": 15,
   "metadata": {},
   "outputs": [],
   "source": [
    "arr = np.arange(16).reshape(2,2,4) # a 3-dimensional matrix"
   ]
  },
  {
   "cell_type": "code",
   "execution_count": 16,
   "metadata": {},
   "outputs": [
    {
     "data": {
      "text/plain": "array([[[ 0,  1,  2,  3],\n        [ 4,  5,  6,  7]],\n\n       [[ 8,  9, 10, 11],\n        [12, 13, 14, 15]]])"
     },
     "execution_count": 16,
     "metadata": {},
     "output_type": "execute_result"
    }
   ],
   "source": [
    "arr"
   ]
  },
  {
   "cell_type": "code",
   "execution_count": 17,
   "metadata": {},
   "outputs": [
    {
     "data": {
      "text/plain": "array([[[ 0,  4],\n        [ 1,  5],\n        [ 2,  6],\n        [ 3,  7]],\n\n       [[ 8, 12],\n        [ 9, 13],\n        [10, 14],\n        [11, 15]]])"
     },
     "execution_count": 17,
     "metadata": {},
     "output_type": "execute_result"
    }
   ],
   "source": [
    "arr.swapaxes(1,2)"
   ]
  },
  {
   "cell_type": "markdown",
   "execution_count": null,
   "metadata": {},
   "outputs": [],
   "source": [
    "## Universal Functions: Fast Element-Wise Array Functions\n",
    "\n",
    "A *universal function*, or *ufunc*, is a function that performs element-wise operations on data in ndarrays. These are fast vectorized wrappers for simple functions that take one or more scalar values and output one or more scalar results."
   ]
  },
  {
   "cell_type": "code",
   "execution_count": 18,
   "metadata": {},
   "outputs": [
    {
     "data": {
      "text/plain": "array([0, 1, 2, 3, 4, 5, 6, 7, 8, 9])"
     },
     "execution_count": 18,
     "metadata": {},
     "output_type": "execute_result"
    }
   ],
   "source": [
    "arr = np.arange(10)\n",
    "arr"
   ]
  },
  {
   "cell_type": "code",
   "execution_count": 19,
   "metadata": {},
   "outputs": [
    {
     "data": {
      "text/plain": "array([ 0,  1,  4,  9, 16, 25, 36, 49, 64, 81])"
     },
     "execution_count": 19,
     "metadata": {},
     "output_type": "execute_result"
    }
   ],
   "source": [
    "np.square(arr)"
   ]
  },
  {
   "cell_type": "code",
   "execution_count": 20,
   "metadata": {},
   "outputs": [
    {
     "data": {
      "text/plain": "array([0.        , 1.        , 1.41421356, 1.73205081, 2.        ,\n       2.23606798, 2.44948974, 2.64575131, 2.82842712, 3.        ])"
     },
     "execution_count": 20,
     "metadata": {},
     "output_type": "execute_result"
    }
   ],
   "source": [
    "np.sqrt(arr)"
   ]
  },
  {
   "cell_type": "code",
   "execution_count": 21,
   "metadata": {},
   "outputs": [
    {
     "data": {
      "text/plain": "array([1.00000000e+00, 2.71828183e+00, 7.38905610e+00, 2.00855369e+01,\n       5.45981500e+01, 1.48413159e+02, 4.03428793e+02, 1.09663316e+03,\n       2.98095799e+03, 8.10308393e+03])"
     },
     "execution_count": 21,
     "metadata": {},
     "output_type": "execute_result"
    }
   ],
   "source": [
    "np.exp(arr)"
   ]
  },
  {
   "cell_type": "markdown",
   "execution_count": null,
   "metadata": {},
   "outputs": [],
   "source": [
    "The above methods are called as *unary functions*. Other functions like `add` or `maximum` take two arrays as inputs and return single array as the result. "
   ]
  },
  {
   "cell_type": "code",
   "execution_count": 22,
   "metadata": {},
   "outputs": [],
   "source": [
    "x = np.random.randn(8)\n",
    "y = np.random.randn(8)"
   ]
  },
  {
   "cell_type": "code",
   "execution_count": 23,
   "metadata": {},
   "outputs": [
    {
     "data": {
      "text/plain": "array([ 1.09217038, -2.24449701, -0.05774274, -1.94732242, -0.88177168,\n       -0.16942439, -1.02474118, -0.6916356 ])"
     },
     "execution_count": 23,
     "metadata": {},
     "output_type": "execute_result"
    }
   ],
   "source": [
    "x"
   ]
  },
  {
   "cell_type": "code",
   "execution_count": 24,
   "metadata": {},
   "outputs": [
    {
     "data": {
      "text/plain": "array([-1.48736149, -2.14850744,  1.6203658 , -0.11038807, -0.08041033,\n        3.09043976,  0.12983129, -0.10546621])"
     },
     "execution_count": 24,
     "metadata": {},
     "output_type": "execute_result"
    }
   ],
   "source": [
    "y"
   ]
  },
  {
   "cell_type": "code",
   "execution_count": 25,
   "metadata": {},
   "outputs": [
    {
     "data": {
      "text/plain": "array([ 1.09217038, -2.14850744,  1.6203658 , -0.11038807, -0.08041033,\n        3.09043976,  0.12983129, -0.10546621])"
     },
     "execution_count": 25,
     "metadata": {},
     "output_type": "execute_result"
    }
   ],
   "source": [
    "np.maximum(x,y) #Element-wise maximum calculations."
   ]
  },
  {
   "cell_type": "markdown",
   "execution_count": null,
   "metadata": {},
   "outputs": [],
   "source": [
    "A *ufunc* can return multiple arrays. For example, `modf`, it returns the fractional and integral parts of a floating-point array."
   ]
  },
  {
   "cell_type": "code",
   "execution_count": 26,
   "metadata": {},
   "outputs": [
    {
     "data": {
      "text/plain": "array([-6.37002813,  1.30392613,  6.38155942, -2.57061946, -6.18544848,\n       -3.50366616,  4.43746911])"
     },
     "execution_count": 26,
     "metadata": {},
     "output_type": "execute_result"
    }
   ],
   "source": [
    "arr = np.random.randn(7) * 5\n",
    "arr"
   ]
  },
  {
   "cell_type": "code",
   "execution_count": 27,
   "metadata": {},
   "outputs": [],
   "source": [
    "remainder, whole_part = np.modf(arr)"
   ]
  },
  {
   "cell_type": "code",
   "execution_count": 28,
   "metadata": {},
   "outputs": [
    {
     "data": {
      "text/plain": "array([-0.37002813,  0.30392613,  0.38155942, -0.57061946, -0.18544848,\n       -0.50366616,  0.43746911])"
     },
     "execution_count": 28,
     "metadata": {},
     "output_type": "execute_result"
    }
   ],
   "source": [
    "remainder"
   ]
  },
  {
   "cell_type": "code",
   "execution_count": 29,
   "metadata": {},
   "outputs": [
    {
     "data": {
      "text/plain": "array([-6.,  1.,  6., -2., -6., -3.,  4.])"
     },
     "execution_count": 29,
     "metadata": {},
     "output_type": "execute_result"
    }
   ],
   "source": [
    "whole_part"
   ]
  },
  {
   "cell_type": "markdown",
   "execution_count": null,
   "metadata": {},
   "outputs": [],
   "source": [
    "### Unary Funcs\n",
    "\n",
    "|Function | Description|\n",
    "|:---------|:------------|\n",
    "|abs, fabs | Compute absolute value element-wise for integer, floating point or complex values.|\n",
    "|sqrt | Compute the square root of each element (equivalent for `arr ** 0.5`). |\n",
    "|square | Compute the square of each element (equivalent for `arr ** 2`). |\n",
    "|exp| Compute the $e^x$ of each element.|\n",
    "|log, log10, log2, logp| Natural logarithm (base e), log base 10, log base 2 and log base p respectively.|\n",
    "|sign| Compute sign of each element: 1 (positive), 0 (zero), -1 (negative). |\n",
    "|ceil| Compute the ceiling of each element (i.e. the smallest integer greater than or equal to that number.).|\n",
    "|floor| Compute the floor of each element (i.e. the smallest integer leass than or equal to that number.).|\n",
    "|rint| Round elements to the nearest integer, preserving the dtype.|\n",
    "|modf| Return fractional and integral parts of array as a separate array. |\n",
    "|isnan| Return boolean array indicting whether each value is NaN (Not a Number).|\n",
    "|isfinite, isinf| Return boolean arrat indicating whether each element is finite(non-inf,non-NaN) or infinite, respectively.|\n",
    "|cos, cosh, sin, sinh, tan, tanh| Regular hyperbolic trigonometric functions. |\n",
    "|arccos, arccosh, arcsin, arcsinh, arctan, arctanh| Inverse trigonometric functions. |\n",
    "|logical_not| Compute truth value of not x element-wise (equivalent to `~arr`).|\n"
   ]
  },
  {
   "cell_type": "markdown",
   "execution_count": null,
   "metadata": {},
   "outputs": [],
   "source": [
    "### Binary Funcs\n",
    "\n",
    "|Function|Description|\n",
    "|:-------|:----------|\n",
    "|add| Add corresponding elements in arrays. |\n",
    "|subtract| Substract elements in second array from first array. |\n",
    "|multiply| Multiply array elements. |\n",
    "|divide, floor_divide| Divide or Floor Divide (truncating the remainder). |\n",
    "|power| Raise element in first array to powers indicated in second array. |\n",
    "|maximum, fmax| Element-wise maximum, `fmax` ignores NaN. |\n",
    "|minimum, fmin| Element-wise minimum, `fmin` ignores NaN. |\n",
    "|mod| Element-wise modulus (remainder of division). |\n",
    "|copysign| Copy sign of values in second argument to values in first argument. |\n",
    "|greater, greater_equal, less, less_equal, equal, not_equal| Performs element-wise comparison, yielding boolean array (equivalent to infix operators `>`, `>=`, `<`, `<=`, `=`, `!=` respectively)|\n",
    "|logical_and, logical_or, logical_xor| Compute element-wise truth value of logical operation (equivalent to infix operators `&`, `|`, `^`)|"
   ]
  },
  {
   "cell_type": "markdown",
   "execution_count": null,
   "metadata": {},
   "outputs": [],
   "source": [
    "## Array-oriented programming\n",
    "\n",
    "Using NumPy a number of use cases can be achieved which otherwise would require writing in-efficient looping codes. The practice of replacing explicit loops with array expressions is commonly referred to as *vectorization*. In general, vectorized operations would be one or two (or more) order of magnitude faster than their pure Python equivalents, with biggest impact in any kind of numerical computations.\n",
    "\n",
    "Example: Consider evaluating $\\sqrt{x^2 + y^2}$ for an array of numbers x and y."
   ]
  },
  {
   "cell_type": "code",
   "execution_count": 30,
   "metadata": {},
   "outputs": [],
   "source": [
    "points = np.arange(-5, 5, 0.01) #1000 equally spaced points\n",
    "\n",
    "xs, ys = np.meshgrid(points, points)"
   ]
  },
  {
   "cell_type": "code",
   "execution_count": 31,
   "metadata": {},
   "outputs": [
    {
     "data": {
      "text/plain": "array([[-5.  , -5.  , -5.  , ..., -5.  , -5.  , -5.  ],\n       [-4.99, -4.99, -4.99, ..., -4.99, -4.99, -4.99],\n       [-4.98, -4.98, -4.98, ..., -4.98, -4.98, -4.98],\n       ...,\n       [ 4.97,  4.97,  4.97, ...,  4.97,  4.97,  4.97],\n       [ 4.98,  4.98,  4.98, ...,  4.98,  4.98,  4.98],\n       [ 4.99,  4.99,  4.99, ...,  4.99,  4.99,  4.99]])"
     },
     "execution_count": 31,
     "metadata": {},
     "output_type": "execute_result"
    }
   ],
   "source": [
    "ys"
   ]
  },
  {
   "cell_type": "code",
   "execution_count": 32,
   "metadata": {},
   "outputs": [],
   "source": [
    "z = np.sqrt(xs ** 2 + ys ** 2)"
   ]
  },
  {
   "cell_type": "code",
   "execution_count": 33,
   "metadata": {},
   "outputs": [
    {
     "data": {
      "text/plain": "array([[7.07106781, 7.06400028, 7.05693985, ..., 7.04988652, 7.05693985,\n        7.06400028],\n       [7.06400028, 7.05692568, 7.04985815, ..., 7.04279774, 7.04985815,\n        7.05692568],\n       [7.05693985, 7.04985815, 7.04278354, ..., 7.03571603, 7.04278354,\n        7.04985815],\n       ...,\n       [7.04988652, 7.04279774, 7.03571603, ..., 7.0286414 , 7.03571603,\n        7.04279774],\n       [7.05693985, 7.04985815, 7.04278354, ..., 7.03571603, 7.04278354,\n        7.04985815],\n       [7.06400028, 7.05692568, 7.04985815, ..., 7.04279774, 7.04985815,\n        7.05692568]])"
     },
     "execution_count": 33,
     "metadata": {},
     "output_type": "execute_result"
    }
   ],
   "source": [
    "z"
   ]
  },
  {
   "cell_type": "code",
   "execution_count": 34,
   "metadata": {},
   "outputs": [],
   "source": [
    "import matplotlib.pyplot as plt"
   ]
  },
  {
   "cell_type": "code",
   "execution_count": 35,
   "metadata": {},
   "outputs": [
    {
     "data": {
      "text/plain": "Text(0.5, 1.0, 'Image plot of $\\\\sqrt{x^2 + y^2}$ for a grid of values.')"
     },
     "execution_count": 35,
     "metadata": {},
     "output_type": "execute_result"
    },
    {
     "data": {
      "image/png": "[encoded data removed]",
      "image/svg+xml": "<?xml version=\"1.0\" encoding=\"utf-8\" standalone=\"no\"?>\n<!DOCTYPE svg PUBLIC \"-//W3C//DTD SVG 1.1//EN\"\n  \"http://www.w3.org/Graphics/SVG/1.1/DTD/svg11.dtd\">\n<!-- Created with matplotlib (https://matplotlib.org/) -->\n<svg height=\"269.878125pt\" version=\"1.1\" viewBox=\"0 0 305.2645 269.878125\" width=\"305.2645pt\" xmlns=\"http://www.w3.org/2000/svg\" xmlns:xlink=\"http://www.w3.org/1999/xlink\">\n <defs>\n  <style type=\"text/css\">\n*{stroke-linecap:butt;stroke-linejoin:round;}\n  </style>\n </defs>\n <g id=\"figure_1\">\n  <g id=\"patch_1\">\n   <path d=\"M 0 269.878125 \nL 305.2645 269.878125 \nL 305.2645 0 \nL 0 0 \nz\n\" style=\"fill:none;\"/>\n  </g>\n  <g id=\"axes_1\">\n   <g id=\"patch_2\">\n    <path d=\"M 39.65 246 \nL 257.09 246 \nL 257.09 28.56 \nL 39.65 28.56 \nz\n\" style=\"fill:#ffffff;\"/>\n   </g>\n   <g clip-path=\"url(#pcaf6d1df38)\">\n    <image height=\"218\" id=\"imagec08741b200\" transform=\"scale(1 -1)translate(0 -218)\" width=\"218\" x=\"39.65\" xlink:href=\"data:image/png;base64,\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\" y=\"-28\"/>\n   </g>\n   <g id=\"matplotlib.axis_1\">\n    <g id=\"xtick_1\">\n     <g id=\"line2d_1\">\n      <defs>\n       <path d=\"M 0 0 \nL 0 3.5 \n\" id=\"ma37e30480a\" style=\"stroke:#000000;stroke-width:0.8;\"/>\n      </defs>\n      <g>\n       <use style=\"stroke:#000000;stroke-width:0.8;\" x=\"39.75872\" xlink:href=\"#ma37e30480a\" y=\"246\"/>\n      </g>\n     </g>\n     <g id=\"text_1\">\n      <!-- 0 -->\n      <defs>\n       <path d=\"M 31.78125 66.40625 \nQ 24.171875 66.40625 20.328125 58.90625 \nQ 16.5 51.421875 16.5 36.375 \nQ 16.5 21.390625 20.328125 13.890625 \nQ 24.171875 6.390625 31.78125 6.390625 \nQ 39.453125 6.390625 43.28125 13.890625 \nQ 47.125 21.390625 47.125 36.375 \nQ 47.125 51.421875 43.28125 58.90625 \nQ 39.453125 66.40625 31.78125 66.40625 \nz\nM 31.78125 74.21875 \nQ 44.046875 74.21875 50.515625 64.515625 \nQ 56.984375 54.828125 56.984375 36.375 \nQ 56.984375 17.96875 50.515625 8.265625 \nQ 44.046875 -1.421875 31.78125 -1.421875 \nQ 19.53125 -1.421875 13.0625 8.265625 \nQ 6.59375 17.96875 6.59375 36.375 \nQ 6.59375 54.828125 13.0625 64.515625 \nQ 19.53125 74.21875 31.78125 74.21875 \nz\n\" id=\"DejaVuSans-48\"/>\n      </defs>\n      <g transform=\"translate(36.57747 260.598437)scale(0.1 -0.1)\">\n       <use xlink:href=\"#DejaVuSans-48\"/>\n      </g>\n     </g>\n    </g>\n    <g id=\"xtick_2\">\n     <g id=\"line2d_2\">\n      <g>\n       <use style=\"stroke:#000000;stroke-width:0.8;\" x=\"83.24672\" xlink:href=\"#ma37e30480a\" y=\"246\"/>\n      </g>\n     </g>\n     <g id=\"text_2\">\n      <!-- 200 -->\n      <defs>\n       <path d=\"M 19.1875 8.296875 \nL 53.609375 8.296875 \nL 53.609375 0 \nL 7.328125 0 \nL 7.328125 8.296875 \nQ 12.9375 14.109375 22.625 23.890625 \nQ 32.328125 33.6875 34.8125 36.53125 \nQ 39.546875 41.84375 41.421875 45.53125 \nQ 43.3125 49.21875 43.3125 52.78125 \nQ 43.3125 58.59375 39.234375 62.25 \nQ 35.15625 65.921875 28.609375 65.921875 \nQ 23.96875 65.921875 18.8125 64.3125 \nQ 13.671875 62.703125 7.8125 59.421875 \nL 7.8125 69.390625 \nQ 13.765625 71.78125 18.9375 73 \nQ 24.125 74.21875 28.421875 74.21875 \nQ 39.75 74.21875 46.484375 68.546875 \nQ 53.21875 62.890625 53.21875 53.421875 \nQ 53.21875 48.921875 51.53125 44.890625 \nQ 49.859375 40.875 45.40625 35.40625 \nQ 44.1875 33.984375 37.640625 27.21875 \nQ 31.109375 20.453125 19.1875 8.296875 \nz\n\" id=\"DejaVuSans-50\"/>\n      </defs>\n      <g transform=\"translate(73.70297 260.598437)scale(0.1 -0.1)\">\n       <use xlink:href=\"#DejaVuSans-50\"/>\n       <use x=\"63.623047\" xlink:href=\"#DejaVuSans-48\"/>\n       <use x=\"127.246094\" xlink:href=\"#DejaVuSans-48\"/>\n      </g>\n     </g>\n    </g>\n    <g id=\"xtick_3\">\n     <g id=\"line2d_3\">\n      <g>\n       <use style=\"stroke:#000000;stroke-width:0.8;\" x=\"126.73472\" xlink:href=\"#ma37e30480a\" y=\"246\"/>\n      </g>\n     </g>\n     <g id=\"text_3\">\n      <!-- 400 -->\n      <defs>\n       <path d=\"M 37.796875 64.3125 \nL 12.890625 25.390625 \nL 37.796875 25.390625 \nz\nM 35.203125 72.90625 \nL 47.609375 72.90625 \nL 47.609375 25.390625 \nL 58.015625 25.390625 \nL 58.015625 17.1875 \nL 47.609375 17.1875 \nL 47.609375 0 \nL 37.796875 0 \nL 37.796875 17.1875 \nL 4.890625 17.1875 \nL 4.890625 26.703125 \nz\n\" id=\"DejaVuSans-52\"/>\n      </defs>\n      <g transform=\"translate(117.19097 260.598437)scale(0.1 -0.1)\">\n       <use xlink:href=\"#DejaVuSans-52\"/>\n       <use x=\"63.623047\" xlink:href=\"#DejaVuSans-48\"/>\n       <use x=\"127.246094\" xlink:href=\"#DejaVuSans-48\"/>\n      </g>\n     </g>\n    </g>\n    <g id=\"xtick_4\">\n     <g id=\"line2d_4\">\n      <g>\n       <use style=\"stroke:#000000;stroke-width:0.8;\" x=\"170.22272\" xlink:href=\"#ma37e30480a\" y=\"246\"/>\n      </g>\n     </g>\n     <g id=\"text_4\">\n      <!-- 600 -->\n      <defs>\n       <path d=\"M 33.015625 40.375 \nQ 26.375 40.375 22.484375 35.828125 \nQ 18.609375 31.296875 18.609375 23.390625 \nQ 18.609375 15.53125 22.484375 10.953125 \nQ 26.375 6.390625 33.015625 6.390625 \nQ 39.65625 6.390625 43.53125 10.953125 \nQ 47.40625 15.53125 47.40625 23.390625 \nQ 47.40625 31.296875 43.53125 35.828125 \nQ 39.65625 40.375 33.015625 40.375 \nz\nM 52.59375 71.296875 \nL 52.59375 62.3125 \nQ 48.875 64.0625 45.09375 64.984375 \nQ 41.3125 65.921875 37.59375 65.921875 \nQ 27.828125 65.921875 22.671875 59.328125 \nQ 17.53125 52.734375 16.796875 39.40625 \nQ 19.671875 43.65625 24.015625 45.921875 \nQ 28.375 48.1875 33.59375 48.1875 \nQ 44.578125 48.1875 50.953125 41.515625 \nQ 57.328125 34.859375 57.328125 23.390625 \nQ 57.328125 12.15625 50.6875 5.359375 \nQ 44.046875 -1.421875 33.015625 -1.421875 \nQ 20.359375 -1.421875 13.671875 8.265625 \nQ 6.984375 17.96875 6.984375 36.375 \nQ 6.984375 53.65625 15.1875 63.9375 \nQ 23.390625 74.21875 37.203125 74.21875 \nQ 40.921875 74.21875 44.703125 73.484375 \nQ 48.484375 72.75 52.59375 71.296875 \nz\n\" id=\"DejaVuSans-54\"/>\n      </defs>\n      <g transform=\"translate(160.67897 260.598437)scale(0.1 -0.1)\">\n       <use xlink:href=\"#DejaVuSans-54\"/>\n       <use x=\"63.623047\" xlink:href=\"#DejaVuSans-48\"/>\n       <use x=\"127.246094\" xlink:href=\"#DejaVuSans-48\"/>\n      </g>\n     </g>\n    </g>\n    <g id=\"xtick_5\">\n     <g id=\"line2d_5\">\n      <g>\n       <use style=\"stroke:#000000;stroke-width:0.8;\" x=\"213.71072\" xlink:href=\"#ma37e30480a\" y=\"246\"/>\n      </g>\n     </g>\n     <g id=\"text_5\">\n      <!-- 800 -->\n      <defs>\n       <path d=\"M 31.78125 34.625 \nQ 24.75 34.625 20.71875 30.859375 \nQ 16.703125 27.09375 16.703125 20.515625 \nQ 16.703125 13.921875 20.71875 10.15625 \nQ 24.75 6.390625 31.78125 6.390625 \nQ 38.8125 6.390625 42.859375 10.171875 \nQ 46.921875 13.96875 46.921875 20.515625 \nQ 46.921875 27.09375 42.890625 30.859375 \nQ 38.875 34.625 31.78125 34.625 \nz\nM 21.921875 38.8125 \nQ 15.578125 40.375 12.03125 44.71875 \nQ 8.5 49.078125 8.5 55.328125 \nQ 8.5 64.0625 14.71875 69.140625 \nQ 20.953125 74.21875 31.78125 74.21875 \nQ 42.671875 74.21875 48.875 69.140625 \nQ 55.078125 64.0625 55.078125 55.328125 \nQ 55.078125 49.078125 51.53125 44.71875 \nQ 48 40.375 41.703125 38.8125 \nQ 48.828125 37.15625 52.796875 32.3125 \nQ 56.78125 27.484375 56.78125 20.515625 \nQ 56.78125 9.90625 50.3125 4.234375 \nQ 43.84375 -1.421875 31.78125 -1.421875 \nQ 19.734375 -1.421875 13.25 4.234375 \nQ 6.78125 9.90625 6.78125 20.515625 \nQ 6.78125 27.484375 10.78125 32.3125 \nQ 14.796875 37.15625 21.921875 38.8125 \nz\nM 18.3125 54.390625 \nQ 18.3125 48.734375 21.84375 45.5625 \nQ 25.390625 42.390625 31.78125 42.390625 \nQ 38.140625 42.390625 41.71875 45.5625 \nQ 45.3125 48.734375 45.3125 54.390625 \nQ 45.3125 60.0625 41.71875 63.234375 \nQ 38.140625 66.40625 31.78125 66.40625 \nQ 25.390625 66.40625 21.84375 63.234375 \nQ 18.3125 60.0625 18.3125 54.390625 \nz\n\" id=\"DejaVuSans-56\"/>\n      </defs>\n      <g transform=\"translate(204.16697 260.598437)scale(0.1 -0.1)\">\n       <use xlink:href=\"#DejaVuSans-56\"/>\n       <use x=\"63.623047\" xlink:href=\"#DejaVuSans-48\"/>\n       <use x=\"127.246094\" xlink:href=\"#DejaVuSans-48\"/>\n      </g>\n     </g>\n    </g>\n    <g id=\"xtick_6\">\n     <g id=\"line2d_6\">\n      <g>\n       <use style=\"stroke:#000000;stroke-width:0.8;\" x=\"257.19872\" xlink:href=\"#ma37e30480a\" y=\"246\"/>\n      </g>\n     </g>\n     <g id=\"text_6\">\n      <!-- 1000 -->\n      <defs>\n       <path d=\"M 12.40625 8.296875 \nL 28.515625 8.296875 \nL 28.515625 63.921875 \nL 10.984375 60.40625 \nL 10.984375 69.390625 \nL 28.421875 72.90625 \nL 38.28125 72.90625 \nL 38.28125 8.296875 \nL 54.390625 8.296875 \nL 54.390625 0 \nL 12.40625 0 \nz\n\" id=\"DejaVuSans-49\"/>\n      </defs>\n      <g transform=\"translate(244.47372 260.598437)scale(0.1 -0.1)\">\n       <use xlink:href=\"#DejaVuSans-49\"/>\n       <use x=\"63.623047\" xlink:href=\"#DejaVuSans-48\"/>\n       <use x=\"127.246094\" xlink:href=\"#DejaVuSans-48\"/>\n       <use x=\"190.869141\" xlink:href=\"#DejaVuSans-48\"/>\n      </g>\n     </g>\n    </g>\n   </g>\n   <g id=\"matplotlib.axis_2\">\n    <g id=\"ytick_1\">\n     <g id=\"line2d_7\">\n      <defs>\n       <path d=\"M 0 0 \nL -3.5 0 \n\" id=\"m7bc28aa0fa\" style=\"stroke:#000000;stroke-width:0.8;\"/>\n      </defs>\n      <g>\n       <use style=\"stroke:#000000;stroke-width:0.8;\" x=\"39.65\" xlink:href=\"#m7bc28aa0fa\" y=\"28.66872\"/>\n      </g>\n     </g>\n     <g id=\"text_7\">\n      <!-- 0 -->\n      <g transform=\"translate(26.2875 32.467939)scale(0.1 -0.1)\">\n       <use xlink:href=\"#DejaVuSans-48\"/>\n      </g>\n     </g>\n    </g>\n    <g id=\"ytick_2\">\n     <g id=\"line2d_8\">\n      <g>\n       <use style=\"stroke:#000000;stroke-width:0.8;\" x=\"39.65\" xlink:href=\"#m7bc28aa0fa\" y=\"72.15672\"/>\n      </g>\n     </g>\n     <g id=\"text_8\">\n      <!-- 200 -->\n      <g transform=\"translate(13.5625 75.955939)scale(0.1 -0.1)\">\n       <use xlink:href=\"#DejaVuSans-50\"/>\n       <use x=\"63.623047\" xlink:href=\"#DejaVuSans-48\"/>\n       <use x=\"127.246094\" xlink:href=\"#DejaVuSans-48\"/>\n      </g>\n     </g>\n    </g>\n    <g id=\"ytick_3\">\n     <g id=\"line2d_9\">\n      <g>\n       <use style=\"stroke:#000000;stroke-width:0.8;\" x=\"39.65\" xlink:href=\"#m7bc28aa0fa\" y=\"115.64472\"/>\n      </g>\n     </g>\n     <g id=\"text_9\">\n      <!-- 400 -->\n      <g transform=\"translate(13.5625 119.443939)scale(0.1 -0.1)\">\n       <use xlink:href=\"#DejaVuSans-52\"/>\n       <use x=\"63.623047\" xlink:href=\"#DejaVuSans-48\"/>\n       <use x=\"127.246094\" xlink:href=\"#DejaVuSans-48\"/>\n      </g>\n     </g>\n    </g>\n    <g id=\"ytick_4\">\n     <g id=\"line2d_10\">\n      <g>\n       <use style=\"stroke:#000000;stroke-width:0.8;\" x=\"39.65\" xlink:href=\"#m7bc28aa0fa\" y=\"159.13272\"/>\n      </g>\n     </g>\n     <g id=\"text_10\">\n      <!-- 600 -->\n      <g transform=\"translate(13.5625 162.931939)scale(0.1 -0.1)\">\n       <use xlink:href=\"#DejaVuSans-54\"/>\n       <use x=\"63.623047\" xlink:href=\"#DejaVuSans-48\"/>\n       <use x=\"127.246094\" xlink:href=\"#DejaVuSans-48\"/>\n      </g>\n     </g>\n    </g>\n    <g id=\"ytick_5\">\n     <g id=\"line2d_11\">\n      <g>\n       <use style=\"stroke:#000000;stroke-width:0.8;\" x=\"39.65\" xlink:href=\"#m7bc28aa0fa\" y=\"202.62072\"/>\n      </g>\n     </g>\n     <g id=\"text_11\">\n      <!-- 800 -->\n      <g transform=\"translate(13.5625 206.419939)scale(0.1 -0.1)\">\n       <use xlink:href=\"#DejaVuSans-56\"/>\n       <use x=\"63.623047\" xlink:href=\"#DejaVuSans-48\"/>\n       <use x=\"127.246094\" xlink:href=\"#DejaVuSans-48\"/>\n      </g>\n     </g>\n    </g>\n    <g id=\"ytick_6\">\n     <g id=\"line2d_12\">\n      <g>\n       <use style=\"stroke:#000000;stroke-width:0.8;\" x=\"39.65\" xlink:href=\"#m7bc28aa0fa\" y=\"246.10872\"/>\n      </g>\n     </g>\n     <g id=\"text_12\">\n      <!-- 1000 -->\n      <g transform=\"translate(7.2 249.907939)scale(0.1 -0.1)\">\n       <use xlink:href=\"#DejaVuSans-49\"/>\n       <use x=\"63.623047\" xlink:href=\"#DejaVuSans-48\"/>\n       <use x=\"127.246094\" xlink:href=\"#DejaVuSans-48\"/>\n       <use x=\"190.869141\" xlink:href=\"#DejaVuSans-48\"/>\n      </g>\n     </g>\n    </g>\n   </g>\n   <g id=\"patch_3\">\n    <path d=\"M 39.65 246 \nL 39.65 28.56 \n\" style=\"fill:none;stroke:#000000;stroke-linecap:square;stroke-linejoin:miter;stroke-width:0.8;\"/>\n   </g>\n   <g id=\"patch_4\">\n    <path d=\"M 257.09 246 \nL 257.09 28.56 \n\" style=\"fill:none;stroke:#000000;stroke-linecap:square;stroke-linejoin:miter;stroke-width:0.8;\"/>\n   </g>\n   <g id=\"patch_5\">\n    <path d=\"M 39.65 246 \nL 257.09 246 \n\" style=\"fill:none;stroke:#000000;stroke-linecap:square;stroke-linejoin:miter;stroke-width:0.8;\"/>\n   </g>\n   <g id=\"patch_6\">\n    <path d=\"M 39.65 28.56 \nL 257.09 28.56 \n\" style=\"fill:none;stroke:#000000;stroke-linecap:square;stroke-linejoin:miter;stroke-width:0.8;\"/>\n   </g>\n   <g id=\"text_13\">\n    <!-- Image plot of $\\sqrt{x^2 + y^2}$ for a grid of values. -->\n    <defs>\n     <path d=\"M 9.8125 72.90625 \nL 19.671875 72.90625 \nL 19.671875 0 \nL 9.8125 0 \nz\n\" id=\"DejaVuSans-73\"/>\n     <path d=\"M 52 44.1875 \nQ 55.375 50.25 60.0625 53.125 \nQ 64.75 56 71.09375 56 \nQ 79.640625 56 84.28125 50.015625 \nQ 88.921875 44.046875 88.921875 33.015625 \nL 88.921875 0 \nL 79.890625 0 \nL 79.890625 32.71875 \nQ 79.890625 40.578125 77.09375 44.375 \nQ 74.3125 48.1875 68.609375 48.1875 \nQ 61.625 48.1875 57.5625 43.546875 \nQ 53.515625 38.921875 53.515625 30.90625 \nL 53.515625 0 \nL 44.484375 0 \nL 44.484375 32.71875 \nQ 44.484375 40.625 41.703125 44.40625 \nQ 38.921875 48.1875 33.109375 48.1875 \nQ 26.21875 48.1875 22.15625 43.53125 \nQ 18.109375 38.875 18.109375 30.90625 \nL 18.109375 0 \nL 9.078125 0 \nL 9.078125 54.6875 \nL 18.109375 54.6875 \nL 18.109375 46.1875 \nQ 21.1875 51.21875 25.484375 53.609375 \nQ 29.78125 56 35.6875 56 \nQ 41.65625 56 45.828125 52.96875 \nQ 50 49.953125 52 44.1875 \nz\n\" id=\"DejaVuSans-109\"/>\n     <path d=\"M 34.28125 27.484375 \nQ 23.390625 27.484375 19.1875 25 \nQ 14.984375 22.515625 14.984375 16.5 \nQ 14.984375 11.71875 18.140625 8.90625 \nQ 21.296875 6.109375 26.703125 6.109375 \nQ 34.1875 6.109375 38.703125 11.40625 \nQ 43.21875 16.703125 43.21875 25.484375 \nL 43.21875 27.484375 \nz\nM 52.203125 31.203125 \nL 52.203125 0 \nL 43.21875 0 \nL 43.21875 8.296875 \nQ 40.140625 3.328125 35.546875 0.953125 \nQ 30.953125 -1.421875 24.3125 -1.421875 \nQ 15.921875 -1.421875 10.953125 3.296875 \nQ 6 8.015625 6 15.921875 \nQ 6 25.140625 12.171875 29.828125 \nQ 18.359375 34.515625 30.609375 34.515625 \nL 43.21875 34.515625 \nL 43.21875 35.40625 \nQ 43.21875 41.609375 39.140625 45 \nQ 35.0625 48.390625 27.6875 48.390625 \nQ 23 48.390625 18.546875 47.265625 \nQ 14.109375 46.140625 10.015625 43.890625 \nL 10.015625 52.203125 \nQ 14.9375 54.109375 19.578125 55.046875 \nQ 24.21875 56 28.609375 56 \nQ 40.484375 56 46.34375 49.84375 \nQ 52.203125 43.703125 52.203125 31.203125 \nz\n\" id=\"DejaVuSans-97\"/>\n     <path d=\"M 45.40625 27.984375 \nQ 45.40625 37.75 41.375 43.109375 \nQ 37.359375 48.484375 30.078125 48.484375 \nQ 22.859375 48.484375 18.828125 43.109375 \nQ 14.796875 37.75 14.796875 27.984375 \nQ 14.796875 18.265625 18.828125 12.890625 \nQ 22.859375 7.515625 30.078125 7.515625 \nQ 37.359375 7.515625 41.375 12.890625 \nQ 45.40625 18.265625 45.40625 27.984375 \nz\nM 54.390625 6.78125 \nQ 54.390625 -7.171875 48.1875 -13.984375 \nQ 42 -20.796875 29.203125 -20.796875 \nQ 24.46875 -20.796875 20.265625 -20.09375 \nQ 16.0625 -19.390625 12.109375 -17.921875 \nL 12.109375 -9.1875 \nQ 16.0625 -11.328125 19.921875 -12.34375 \nQ 23.78125 -13.375 27.78125 -13.375 \nQ 36.625 -13.375 41.015625 -8.765625 \nQ 45.40625 -4.15625 45.40625 5.171875 \nL 45.40625 9.625 \nQ 42.625 4.78125 38.28125 2.390625 \nQ 33.9375 0 27.875 0 \nQ 17.828125 0 11.671875 7.65625 \nQ 5.515625 15.328125 5.515625 27.984375 \nQ 5.515625 40.671875 11.671875 48.328125 \nQ 17.828125 56 27.875 56 \nQ 33.9375 56 38.28125 53.609375 \nQ 42.625 51.21875 45.40625 46.390625 \nL 45.40625 54.6875 \nL 54.390625 54.6875 \nz\n\" id=\"DejaVuSans-103\"/>\n     <path d=\"M 56.203125 29.59375 \nL 56.203125 25.203125 \nL 14.890625 25.203125 \nQ 15.484375 15.921875 20.484375 11.0625 \nQ 25.484375 6.203125 34.421875 6.203125 \nQ 39.59375 6.203125 44.453125 7.46875 \nQ 49.3125 8.734375 54.109375 11.28125 \nL 54.109375 2.78125 \nQ 49.265625 0.734375 44.1875 -0.34375 \nQ 39.109375 -1.421875 33.890625 -1.421875 \nQ 20.796875 -1.421875 13.15625 6.1875 \nQ 5.515625 13.8125 5.515625 26.8125 \nQ 5.515625 40.234375 12.765625 48.109375 \nQ 20.015625 56 32.328125 56 \nQ 43.359375 56 49.78125 48.890625 \nQ 56.203125 41.796875 56.203125 29.59375 \nz\nM 47.21875 32.234375 \nQ 47.125 39.59375 43.09375 43.984375 \nQ 39.0625 48.390625 32.421875 48.390625 \nQ 24.90625 48.390625 20.390625 44.140625 \nQ 15.875 39.890625 15.1875 32.171875 \nz\n\" id=\"DejaVuSans-101\"/>\n     <path id=\"DejaVuSans-32\"/>\n     <path d=\"M 18.109375 8.203125 \nL 18.109375 -20.796875 \nL 9.078125 -20.796875 \nL 9.078125 54.6875 \nL 18.109375 54.6875 \nL 18.109375 46.390625 \nQ 20.953125 51.265625 25.265625 53.625 \nQ 29.59375 56 35.59375 56 \nQ 45.5625 56 51.78125 48.09375 \nQ 58.015625 40.1875 58.015625 27.296875 \nQ 58.015625 14.40625 51.78125 6.484375 \nQ 45.5625 -1.421875 35.59375 -1.421875 \nQ 29.59375 -1.421875 25.265625 0.953125 \nQ 20.953125 3.328125 18.109375 8.203125 \nz\nM 48.6875 27.296875 \nQ 48.6875 37.203125 44.609375 42.84375 \nQ 40.53125 48.484375 33.40625 48.484375 \nQ 26.265625 48.484375 22.1875 42.84375 \nQ 18.109375 37.203125 18.109375 27.296875 \nQ 18.109375 17.390625 22.1875 11.75 \nQ 26.265625 6.109375 33.40625 6.109375 \nQ 40.53125 6.109375 44.609375 11.75 \nQ 48.6875 17.390625 48.6875 27.296875 \nz\n\" id=\"DejaVuSans-112\"/>\n     <path d=\"M 9.421875 75.984375 \nL 18.40625 75.984375 \nL 18.40625 0 \nL 9.421875 0 \nz\n\" id=\"DejaVuSans-108\"/>\n     <path d=\"M 30.609375 48.390625 \nQ 23.390625 48.390625 19.1875 42.75 \nQ 14.984375 37.109375 14.984375 27.296875 \nQ 14.984375 17.484375 19.15625 11.84375 \nQ 23.34375 6.203125 30.609375 6.203125 \nQ 37.796875 6.203125 41.984375 11.859375 \nQ 46.1875 17.53125 46.1875 27.296875 \nQ 46.1875 37.015625 41.984375 42.703125 \nQ 37.796875 48.390625 30.609375 48.390625 \nz\nM 30.609375 56 \nQ 42.328125 56 49.015625 48.375 \nQ 55.71875 40.765625 55.71875 27.296875 \nQ 55.71875 13.875 49.015625 6.21875 \nQ 42.328125 -1.421875 30.609375 -1.421875 \nQ 18.84375 -1.421875 12.171875 6.21875 \nQ 5.515625 13.875 5.515625 27.296875 \nQ 5.515625 40.765625 12.171875 48.375 \nQ 18.84375 56 30.609375 56 \nz\n\" id=\"DejaVuSans-111\"/>\n     <path d=\"M 18.3125 70.21875 \nL 18.3125 54.6875 \nL 36.8125 54.6875 \nL 36.8125 47.703125 \nL 18.3125 47.703125 \nL 18.3125 18.015625 \nQ 18.3125 11.328125 20.140625 9.421875 \nQ 21.96875 7.515625 27.59375 7.515625 \nL 36.8125 7.515625 \nL 36.8125 0 \nL 27.59375 0 \nQ 17.1875 0 13.234375 3.875 \nQ 9.28125 7.765625 9.28125 18.015625 \nL 9.28125 47.703125 \nL 2.6875 47.703125 \nL 2.6875 54.6875 \nL 9.28125 54.6875 \nL 9.28125 70.21875 \nz\n\" id=\"DejaVuSans-116\"/>\n     <path d=\"M 37.109375 75.984375 \nL 37.109375 68.5 \nL 28.515625 68.5 \nQ 23.6875 68.5 21.796875 66.546875 \nQ 19.921875 64.59375 19.921875 59.515625 \nL 19.921875 54.6875 \nL 34.71875 54.6875 \nL 34.71875 47.703125 \nL 19.921875 47.703125 \nL 19.921875 0 \nL 10.890625 0 \nL 10.890625 47.703125 \nL 2.296875 47.703125 \nL 2.296875 54.6875 \nL 10.890625 54.6875 \nL 10.890625 58.5 \nQ 10.890625 67.625 15.140625 71.796875 \nQ 19.390625 75.984375 28.609375 75.984375 \nz\n\" id=\"DejaVuSans-102\"/>\n     <path d=\"M 108.90625 155.203125 \nL 52.703125 -29.5 \nL 48.5 -29.5 \nL 25.40625 45.59375 \nQ 24.296875 49.203125 22.890625 50.796875 \nQ 21.5 52.40625 19.203125 52.40625 \nQ 15.796875 52.40625 12.40625 49.703125 \nL 11.203125 51.703125 \nL 27.59375 64.296875 \nL 30.09375 64.296875 \nL 52.796875 -9.40625 \nL 53.203125 -9.40625 \nL 103.203125 155.203125 \nz\n\" id=\"STIXSizeOneSym-Regular-8730\"/>\n     <path d=\"M 60.015625 54.6875 \nL 34.90625 27.875 \nL 50.296875 0 \nL 39.984375 0 \nL 28.421875 21.6875 \nL 8.296875 0 \nL -2.59375 0 \nL 24.3125 28.8125 \nL 10.015625 54.6875 \nL 20.3125 54.6875 \nL 30.8125 34.90625 \nL 49.125 54.6875 \nz\n\" id=\"DejaVuSans-Oblique-120\"/>\n     <path d=\"M 46 62.703125 \nL 46 35.5 \nL 73.1875 35.5 \nL 73.1875 27.203125 \nL 46 27.203125 \nL 46 0 \nL 37.796875 0 \nL 37.796875 27.203125 \nL 10.59375 27.203125 \nL 10.59375 35.5 \nL 37.796875 35.5 \nL 37.796875 62.703125 \nz\n\" id=\"DejaVuSans-43\"/>\n     <path d=\"M 24.8125 -5.078125 \nQ 18.5625 -15.578125 14.625 -18.1875 \nQ 10.6875 -20.796875 4.59375 -20.796875 \nL -2.484375 -20.796875 \nL -0.984375 -13.28125 \nL 4.203125 -13.28125 \nQ 7.953125 -13.28125 10.59375 -11.234375 \nQ 13.234375 -9.1875 16.5 -3.21875 \nL 19.28125 2 \nL 7.171875 54.6875 \nL 16.703125 54.6875 \nL 25.78125 12.796875 \nL 50.875 54.6875 \nL 60.296875 54.6875 \nz\n\" id=\"DejaVuSans-Oblique-121\"/>\n     <path d=\"M 41.109375 46.296875 \nQ 39.59375 47.171875 37.8125 47.578125 \nQ 36.03125 48 33.890625 48 \nQ 26.265625 48 22.1875 43.046875 \nQ 18.109375 38.09375 18.109375 28.8125 \nL 18.109375 0 \nL 9.078125 0 \nL 9.078125 54.6875 \nL 18.109375 54.6875 \nL 18.109375 46.1875 \nQ 20.953125 51.171875 25.484375 53.578125 \nQ 30.03125 56 36.53125 56 \nQ 37.453125 56 38.578125 55.875 \nQ 39.703125 55.765625 41.0625 55.515625 \nz\n\" id=\"DejaVuSans-114\"/>\n     <path d=\"M 9.421875 54.6875 \nL 18.40625 54.6875 \nL 18.40625 0 \nL 9.421875 0 \nz\nM 9.421875 75.984375 \nL 18.40625 75.984375 \nL 18.40625 64.59375 \nL 9.421875 64.59375 \nz\n\" id=\"DejaVuSans-105\"/>\n     <path d=\"M 45.40625 46.390625 \nL 45.40625 75.984375 \nL 54.390625 75.984375 \nL 54.390625 0 \nL 45.40625 0 \nL 45.40625 8.203125 \nQ 42.578125 3.328125 38.25 0.953125 \nQ 33.9375 -1.421875 27.875 -1.421875 \nQ 17.96875 -1.421875 11.734375 6.484375 \nQ 5.515625 14.40625 5.515625 27.296875 \nQ 5.515625 40.1875 11.734375 48.09375 \nQ 17.96875 56 27.875 56 \nQ 33.9375 56 38.25 53.625 \nQ 42.578125 51.265625 45.40625 46.390625 \nz\nM 14.796875 27.296875 \nQ 14.796875 17.390625 18.875 11.75 \nQ 22.953125 6.109375 30.078125 6.109375 \nQ 37.203125 6.109375 41.296875 11.75 \nQ 45.40625 17.390625 45.40625 27.296875 \nQ 45.40625 37.203125 41.296875 42.84375 \nQ 37.203125 48.484375 30.078125 48.484375 \nQ 22.953125 48.484375 18.875 42.84375 \nQ 14.796875 37.203125 14.796875 27.296875 \nz\n\" id=\"DejaVuSans-100\"/>\n     <path d=\"M 2.984375 54.6875 \nL 12.5 54.6875 \nL 29.59375 8.796875 \nL 46.6875 54.6875 \nL 56.203125 54.6875 \nL 35.6875 0 \nL 23.484375 0 \nz\n\" id=\"DejaVuSans-118\"/>\n     <path d=\"M 8.5 21.578125 \nL 8.5 54.6875 \nL 17.484375 54.6875 \nL 17.484375 21.921875 \nQ 17.484375 14.15625 20.5 10.265625 \nQ 23.53125 6.390625 29.59375 6.390625 \nQ 36.859375 6.390625 41.078125 11.03125 \nQ 45.3125 15.671875 45.3125 23.6875 \nL 45.3125 54.6875 \nL 54.296875 54.6875 \nL 54.296875 0 \nL 45.3125 0 \nL 45.3125 8.40625 \nQ 42.046875 3.421875 37.71875 1 \nQ 33.40625 -1.421875 27.6875 -1.421875 \nQ 18.265625 -1.421875 13.375 4.4375 \nQ 8.5 10.296875 8.5 21.578125 \nz\nM 31.109375 56 \nz\n\" id=\"DejaVuSans-117\"/>\n     <path d=\"M 44.28125 53.078125 \nL 44.28125 44.578125 \nQ 40.484375 46.53125 36.375 47.5 \nQ 32.28125 48.484375 27.875 48.484375 \nQ 21.1875 48.484375 17.84375 46.4375 \nQ 14.5 44.390625 14.5 40.28125 \nQ 14.5 37.15625 16.890625 35.375 \nQ 19.28125 33.59375 26.515625 31.984375 \nL 29.59375 31.296875 \nQ 39.15625 29.25 43.1875 25.515625 \nQ 47.21875 21.78125 47.21875 15.09375 \nQ 47.21875 7.46875 41.1875 3.015625 \nQ 35.15625 -1.421875 24.609375 -1.421875 \nQ 20.21875 -1.421875 15.453125 -0.5625 \nQ 10.6875 0.296875 5.421875 2 \nL 5.421875 11.28125 \nQ 10.40625 8.6875 15.234375 7.390625 \nQ 20.0625 6.109375 24.8125 6.109375 \nQ 31.15625 6.109375 34.5625 8.28125 \nQ 37.984375 10.453125 37.984375 14.40625 \nQ 37.984375 18.0625 35.515625 20.015625 \nQ 33.0625 21.96875 24.703125 23.78125 \nL 21.578125 24.515625 \nQ 13.234375 26.265625 9.515625 29.90625 \nQ 5.8125 33.546875 5.8125 39.890625 \nQ 5.8125 47.609375 11.28125 51.796875 \nQ 16.75 56 26.8125 56 \nQ 31.78125 56 36.171875 55.265625 \nQ 40.578125 54.546875 44.28125 53.078125 \nz\n\" id=\"DejaVuSans-115\"/>\n     <path d=\"M 10.6875 12.40625 \nL 21 12.40625 \nL 21 0 \nL 10.6875 0 \nz\n\" id=\"DejaVuSans-46\"/>\n    </defs>\n    <g transform=\"translate(19.07 22.56)scale(0.12 -0.12)\">\n     <use transform=\"translate(0 0.578125)\" xlink:href=\"#DejaVuSans-73\"/>\n     <use transform=\"translate(29.445312 0.578125)\" xlink:href=\"#DejaVuSans-109\"/>\n     <use transform=\"translate(126.857422 0.578125)\" xlink:href=\"#DejaVuSans-97\"/>\n     <use transform=\"translate(188.136719 0.578125)\" xlink:href=\"#DejaVuSans-103\"/>\n     <use transform=\"translate(251.613281 0.578125)\" xlink:href=\"#DejaVuSans-101\"/>\n     <use transform=\"translate(313.136719 0.578125)\" xlink:href=\"#DejaVuSans-32\"/>\n     <use transform=\"translate(344.923828 0.578125)\" xlink:href=\"#DejaVuSans-112\"/>\n     <use transform=\"translate(408.400391 0.578125)\" xlink:href=\"#DejaVuSans-108\"/>\n     <use transform=\"translate(436.183594 0.578125)\" xlink:href=\"#DejaVuSans-111\"/>\n     <use transform=\"translate(497.365234 0.578125)\" xlink:href=\"#DejaVuSans-116\"/>\n     <use transform=\"translate(536.574219 0.578125)\" xlink:href=\"#DejaVuSans-32\"/>\n     <use transform=\"translate(568.361328 0.578125)\" xlink:href=\"#DejaVuSans-111\"/>\n     <use transform=\"translate(629.542969 0.578125)\" xlink:href=\"#DejaVuSans-102\"/>\n     <use transform=\"translate(664.748047 0.578125)\" xlink:href=\"#DejaVuSans-32\"/>\n     <use transform=\"translate(696.535156 2.5)scale(0.770324)\" xlink:href=\"#STIXSizeOneSym-Regular-8730\"/>\n     <use transform=\"translate(790.424149 0.515625)\" xlink:href=\"#DejaVuSans-Oblique-120\"/>\n     <use transform=\"translate(854.069982 38.796875)scale(0.7)\" xlink:href=\"#DejaVuSans-50\"/>\n     <use transform=\"translate(920.822912 0.515625)\" xlink:href=\"#DejaVuSans-43\"/>\n     <use transform=\"translate(1024.094396 0.515625)\" xlink:href=\"#DejaVuSans-Oblique-121\"/>\n     <use transform=\"translate(1087.740229 38.796875)scale(0.7)\" xlink:href=\"#DejaVuSans-50\"/>\n     <use transform=\"translate(1147.510737 0.578125)\" xlink:href=\"#DejaVuSans-32\"/>\n     <use transform=\"translate(1179.297846 0.578125)\" xlink:href=\"#DejaVuSans-102\"/>\n     <use transform=\"translate(1214.502925 0.578125)\" xlink:href=\"#DejaVuSans-111\"/>\n     <use transform=\"translate(1275.684565 0.578125)\" xlink:href=\"#DejaVuSans-114\"/>\n     <use transform=\"translate(1316.797846 0.578125)\" xlink:href=\"#DejaVuSans-32\"/>\n     <use transform=\"translate(1348.584956 0.578125)\" xlink:href=\"#DejaVuSans-97\"/>\n     <use transform=\"translate(1409.864253 0.578125)\" xlink:href=\"#DejaVuSans-32\"/>\n     <use transform=\"translate(1441.651362 0.578125)\" xlink:href=\"#DejaVuSans-103\"/>\n     <use transform=\"translate(1505.127925 0.578125)\" xlink:href=\"#DejaVuSans-114\"/>\n     <use transform=\"translate(1546.241206 0.578125)\" xlink:href=\"#DejaVuSans-105\"/>\n     <use transform=\"translate(1574.024409 0.578125)\" xlink:href=\"#DejaVuSans-100\"/>\n     <use transform=\"translate(1637.500971 0.578125)\" xlink:href=\"#DejaVuSans-32\"/>\n     <use transform=\"translate(1669.288081 0.578125)\" xlink:href=\"#DejaVuSans-111\"/>\n     <use transform=\"translate(1730.469721 0.578125)\" xlink:href=\"#DejaVuSans-102\"/>\n     <use transform=\"translate(1765.6748 0.578125)\" xlink:href=\"#DejaVuSans-32\"/>\n     <use transform=\"translate(1797.461909 0.578125)\" xlink:href=\"#DejaVuSans-118\"/>\n     <use transform=\"translate(1856.641596 0.578125)\" xlink:href=\"#DejaVuSans-97\"/>\n     <use transform=\"translate(1917.920893 0.578125)\" xlink:href=\"#DejaVuSans-108\"/>\n     <use transform=\"translate(1945.704096 0.578125)\" xlink:href=\"#DejaVuSans-117\"/>\n     <use transform=\"translate(2009.083003 0.578125)\" xlink:href=\"#DejaVuSans-101\"/>\n     <use transform=\"translate(2070.60644 0.578125)\" xlink:href=\"#DejaVuSans-115\"/>\n     <use transform=\"translate(2122.70605 0.578125)\" xlink:href=\"#DejaVuSans-46\"/>\n     <path d=\"M 777.924149 115.5 \nL 777.924149 121.75 \nL 1147.510737 121.75 \nL 1147.510737 115.5 \nL 777.924149 115.5 \nz\n\"/>\n    </g>\n   </g>\n  </g>\n  <g id=\"axes_2\">\n   <g id=\"patch_7\">\n    <path clip-path=\"url(#p531166478f)\" d=\"M 273.83 246 \nL 273.83 245.150625 \nL 273.83 29.409375 \nL 273.83 28.56 \nL 284.702 28.56 \nL 284.702 29.409375 \nL 284.702 245.150625 \nL 284.702 246 \nz\n\" style=\"fill:#ffffff;stroke:#ffffff;stroke-linejoin:miter;stroke-width:0.01;\"/>\n   </g>\n   <image height=\"217\" id=\"image2c555727ec\" transform=\"scale(1 -1)translate(0 -217)\" width=\"11\" x=\"274\" xlink:href=\"data:image/png;base64,\niVBORw0KGgoAAAANSUhEUgAAAAsAAADZCAYAAAD2WsoCAAAABHNCSVQICAgIfAhkiAAAASBJREFUaIHtmkEOwjAMBNfFcIBn8P/nARKoDdcePZVcOVE4r6zxOu1WJtb0bAr+XPpFtVj8JeJ3WGxNl3CD1hYBN65hCrluRIwqP9Iq5zFPNw6LUYNFmOe4z6ncoxs9Hv7B3bCtgRyMx7zk8ZiX/EXECCOPOa9y/KOnDnPeUNDZKMI8D//hytONvXj4V0HeuAmzieSgQHi7QB67QNJTjDzmPAzkRhFmhHFPqzz8uIs02OO4i1jX47jHfvOb2gpycF0ABkh6BxtlOdgo16k83diLh3ejxwanG+dgDO8GarDEA2taWvzPRFdc7PFPQMnBKlcONsplKg/vBtjcl2Eu4kYeRp4bPY57unEORodu2EaizfSJY8CLQHlXjCpcXirC/AdB4HT7AXzf6QAAAABJRU5ErkJggg==\" y=\"-28\"/>\n   <g id=\"matplotlib.axis_3\"/>\n   <g id=\"matplotlib.axis_4\">\n    <g id=\"ytick_7\">\n     <g id=\"line2d_13\">\n      <defs>\n       <path d=\"M 0 0 \nL 3.5 0 \n\" id=\"m555607f0e9\" style=\"stroke:#000000;stroke-width:0.8;\"/>\n      </defs>\n      <g>\n       <use style=\"stroke:#000000;stroke-width:0.8;\" x=\"284.702\" xlink:href=\"#m555607f0e9\" y=\"246\"/>\n      </g>\n     </g>\n     <g id=\"text_14\">\n      <!-- 0 -->\n      <g transform=\"translate(291.702 249.799219)scale(0.1 -0.1)\">\n       <use xlink:href=\"#DejaVuSans-48\"/>\n      </g>\n     </g>\n    </g>\n    <g id=\"ytick_8\">\n     <g id=\"line2d_14\">\n      <g>\n       <use style=\"stroke:#000000;stroke-width:0.8;\" x=\"284.702\" xlink:href=\"#m555607f0e9\" y=\"215.24934\"/>\n      </g>\n     </g>\n     <g id=\"text_15\">\n      <!-- 1 -->\n      <g transform=\"translate(291.702 219.048559)scale(0.1 -0.1)\">\n       <use xlink:href=\"#DejaVuSans-49\"/>\n      </g>\n     </g>\n    </g>\n    <g id=\"ytick_9\">\n     <g id=\"line2d_15\">\n      <g>\n       <use style=\"stroke:#000000;stroke-width:0.8;\" x=\"284.702\" xlink:href=\"#m555607f0e9\" y=\"184.498681\"/>\n      </g>\n     </g>\n     <g id=\"text_16\">\n      <!-- 2 -->\n      <g transform=\"translate(291.702 188.297899)scale(0.1 -0.1)\">\n       <use xlink:href=\"#DejaVuSans-50\"/>\n      </g>\n     </g>\n    </g>\n    <g id=\"ytick_10\">\n     <g id=\"line2d_16\">\n      <g>\n       <use style=\"stroke:#000000;stroke-width:0.8;\" x=\"284.702\" xlink:href=\"#m555607f0e9\" y=\"153.748021\"/>\n      </g>\n     </g>\n     <g id=\"text_17\">\n      <!-- 3 -->\n      <defs>\n       <path d=\"M 40.578125 39.3125 \nQ 47.65625 37.796875 51.625 33 \nQ 55.609375 28.21875 55.609375 21.1875 \nQ 55.609375 10.40625 48.1875 4.484375 \nQ 40.765625 -1.421875 27.09375 -1.421875 \nQ 22.515625 -1.421875 17.65625 -0.515625 \nQ 12.796875 0.390625 7.625 2.203125 \nL 7.625 11.71875 \nQ 11.71875 9.328125 16.59375 8.109375 \nQ 21.484375 6.890625 26.8125 6.890625 \nQ 36.078125 6.890625 40.9375 10.546875 \nQ 45.796875 14.203125 45.796875 21.1875 \nQ 45.796875 27.640625 41.28125 31.265625 \nQ 36.765625 34.90625 28.71875 34.90625 \nL 20.21875 34.90625 \nL 20.21875 43.015625 \nL 29.109375 43.015625 \nQ 36.375 43.015625 40.234375 45.921875 \nQ 44.09375 48.828125 44.09375 54.296875 \nQ 44.09375 59.90625 40.109375 62.90625 \nQ 36.140625 65.921875 28.71875 65.921875 \nQ 24.65625 65.921875 20.015625 65.03125 \nQ 15.375 64.15625 9.8125 62.3125 \nL 9.8125 71.09375 \nQ 15.4375 72.65625 20.34375 73.4375 \nQ 25.25 74.21875 29.59375 74.21875 \nQ 40.828125 74.21875 47.359375 69.109375 \nQ 53.90625 64.015625 53.90625 55.328125 \nQ 53.90625 49.265625 50.4375 45.09375 \nQ 46.96875 40.921875 40.578125 39.3125 \nz\n\" id=\"DejaVuSans-51\"/>\n      </defs>\n      <g transform=\"translate(291.702 157.54724)scale(0.1 -0.1)\">\n       <use xlink:href=\"#DejaVuSans-51\"/>\n      </g>\n     </g>\n    </g>\n    <g id=\"ytick_11\">\n     <g id=\"line2d_17\">\n      <g>\n       <use style=\"stroke:#000000;stroke-width:0.8;\" x=\"284.702\" xlink:href=\"#m555607f0e9\" y=\"122.997361\"/>\n      </g>\n     </g>\n     <g id=\"text_18\">\n      <!-- 4 -->\n      <g transform=\"translate(291.702 126.79658)scale(0.1 -0.1)\">\n       <use xlink:href=\"#DejaVuSans-52\"/>\n      </g>\n     </g>\n    </g>\n    <g id=\"ytick_12\">\n     <g id=\"line2d_18\">\n      <g>\n       <use style=\"stroke:#000000;stroke-width:0.8;\" x=\"284.702\" xlink:href=\"#m555607f0e9\" y=\"92.246701\"/>\n      </g>\n     </g>\n     <g id=\"text_19\">\n      <!-- 5 -->\n      <defs>\n       <path d=\"M 10.796875 72.90625 \nL 49.515625 72.90625 \nL 49.515625 64.59375 \nL 19.828125 64.59375 \nL 19.828125 46.734375 \nQ 21.96875 47.46875 24.109375 47.828125 \nQ 26.265625 48.1875 28.421875 48.1875 \nQ 40.625 48.1875 47.75 41.5 \nQ 54.890625 34.8125 54.890625 23.390625 \nQ 54.890625 11.625 47.5625 5.09375 \nQ 40.234375 -1.421875 26.90625 -1.421875 \nQ 22.3125 -1.421875 17.546875 -0.640625 \nQ 12.796875 0.140625 7.71875 1.703125 \nL 7.71875 11.625 \nQ 12.109375 9.234375 16.796875 8.0625 \nQ 21.484375 6.890625 26.703125 6.890625 \nQ 35.15625 6.890625 40.078125 11.328125 \nQ 45.015625 15.765625 45.015625 23.390625 \nQ 45.015625 31 40.078125 35.4375 \nQ 35.15625 39.890625 26.703125 39.890625 \nQ 22.75 39.890625 18.8125 39.015625 \nQ 14.890625 38.140625 10.796875 36.28125 \nz\n\" id=\"DejaVuSans-53\"/>\n      </defs>\n      <g transform=\"translate(291.702 96.04592)scale(0.1 -0.1)\">\n       <use xlink:href=\"#DejaVuSans-53\"/>\n      </g>\n     </g>\n    </g>\n    <g id=\"ytick_13\">\n     <g id=\"line2d_19\">\n      <g>\n       <use style=\"stroke:#000000;stroke-width:0.8;\" x=\"284.702\" xlink:href=\"#m555607f0e9\" y=\"61.496042\"/>\n      </g>\n     </g>\n     <g id=\"text_20\">\n      <!-- 6 -->\n      <g transform=\"translate(291.702 65.295261)scale(0.1 -0.1)\">\n       <use xlink:href=\"#DejaVuSans-54\"/>\n      </g>\n     </g>\n    </g>\n    <g id=\"ytick_14\">\n     <g id=\"line2d_20\">\n      <g>\n       <use style=\"stroke:#000000;stroke-width:0.8;\" x=\"284.702\" xlink:href=\"#m555607f0e9\" y=\"30.745382\"/>\n      </g>\n     </g>\n     <g id=\"text_21\">\n      <!-- 7 -->\n      <defs>\n       <path d=\"M 8.203125 72.90625 \nL 55.078125 72.90625 \nL 55.078125 68.703125 \nL 28.609375 0 \nL 18.3125 0 \nL 43.21875 64.59375 \nL 8.203125 64.59375 \nz\n\" id=\"DejaVuSans-55\"/>\n      </defs>\n      <g transform=\"translate(291.702 34.544601)scale(0.1 -0.1)\">\n       <use xlink:href=\"#DejaVuSans-55\"/>\n      </g>\n     </g>\n    </g>\n   </g>\n   <g id=\"patch_8\">\n    <path d=\"M 273.83 246 \nL 273.83 245.150625 \nL 273.83 29.409375 \nL 273.83 28.56 \nL 284.702 28.56 \nL 284.702 29.409375 \nL 284.702 245.150625 \nL 284.702 246 \nz\n\" style=\"fill:none;stroke:#000000;stroke-linejoin:miter;stroke-width:0.8;\"/>\n   </g>\n  </g>\n </g>\n <defs>\n  <clipPath id=\"pcaf6d1df38\">\n   <rect height=\"217.44\" width=\"217.44\" x=\"39.65\" y=\"28.56\"/>\n  </clipPath>\n  <clipPath id=\"p531166478f\">\n   <rect height=\"217.44\" width=\"10.872\" x=\"273.83\" y=\"28.56\"/>\n  </clipPath>\n </defs>\n</svg>\n",
      "text/plain": "<Figure size 432x288 with 2 Axes>"
     },
     "metadata": {
      "needs_background": "light"
     },
     "output_type": "display_data"
    }
   ],
   "source": [
    "plt.imshow(z, cmap=plt.cm.gist_rainbow)\n",
    "plt.colorbar()\n",
    "plt.title(\"Image plot of $\\sqrt{x^2 + y^2}$ for a grid of values.\")"
   ]
  },
  {
   "cell_type": "markdown",
   "execution_count": null,
   "metadata": {},
   "outputs": [],
   "source": [
    "## Expressing Conditional Logic as Array Operations\n",
    "\n",
    "The `numpy.where` function is a vectorized version of the ternary expression `x if condition else y`. \n",
    "\n",
    "Suppose, two arrays as specified below:"
   ]
  },
  {
   "cell_type": "code",
   "execution_count": 36,
   "metadata": {},
   "outputs": [],
   "source": [
    "xarr = np.array([1.1,1.2,1.3,1.4,1.5])\n",
    "yarr = np.array([2.1,2.2,2.3,2.4,2.5])\n",
    "cond = np.array([True, False, True, True, False])"
   ]
  },
  {
   "cell_type": "markdown",
   "metadata": {},
   "source": [
    "Suppose, we would like to take a value from x for every True condition otherwise from yarr. In general Python, one way to do this would be:"
   ]
  },
  {
   "cell_type": "code",
   "execution_count": 37,
   "metadata": {},
   "outputs": [
    {
     "data": {
      "text/plain": "[1.1, 2.2, 1.3, 1.4, 2.5]"
     },
     "execution_count": 37,
     "metadata": {},
     "output_type": "execute_result"
    }
   ],
   "source": [
    "result = [(x if c else y) for x,y,c in zip(xarr, yarr, cond)]\n",
    "result"
   ]
  },
  {
   "cell_type": "markdown",
   "metadata": {},
   "source": [
    "The above solution has many issues, first of all it is not fast for large arrays. Also it will not work with multi-dimensional arrays. NumPy way of doing this is as follows:"
   ]
  },
  {
   "cell_type": "code",
   "execution_count": 38,
   "metadata": {},
   "outputs": [
    {
     "data": {
      "text/plain": "array([1.1, 2.2, 1.3, 1.4, 2.5])"
     },
     "execution_count": 38,
     "metadata": {},
     "output_type": "execute_result"
    }
   ],
   "source": [
    "result2 = np.where(cond, xarr, yarr)\n",
    "result2"
   ]
  },
  {
   "cell_type": "markdown",
   "metadata": {},
   "source": [
    "Another use of `np.where` in data analysis is to produce a new array of values based on another array. Let's look at the following example:"
   ]
  },
  {
   "cell_type": "code",
   "execution_count": 39,
   "metadata": {},
   "outputs": [
    {
     "data": {
      "text/plain": "array([[-1.34442858, -0.22415757, -0.202001  , -1.1283505 ],\n       [ 0.72440358, -2.2118608 ,  1.06637265,  0.34594217],\n       [ 0.15609499, -0.63251531, -2.01212949, -0.25631886],\n       [ 0.68428084, -0.66792207, -0.5912106 ,  0.97986236]])"
     },
     "execution_count": 39,
     "metadata": {},
     "output_type": "execute_result"
    }
   ],
   "source": [
    "arr = np.random.randn(4,4)\n",
    "arr"
   ]
  },
  {
   "cell_type": "code",
   "execution_count": 40,
   "metadata": {},
   "outputs": [
    {
     "data": {
      "text/plain": "array([[False, False, False, False],\n       [ True, False,  True,  True],\n       [ True, False, False, False],\n       [ True, False, False,  True]])"
     },
     "execution_count": 40,
     "metadata": {},
     "output_type": "execute_result"
    }
   ],
   "source": [
    "arr > 0"
   ]
  },
  {
   "cell_type": "code",
   "execution_count": 41,
   "metadata": {},
   "outputs": [
    {
     "data": {
      "text/plain": "array([[-2, -2, -2, -2],\n       [ 2, -2,  2,  2],\n       [ 2, -2, -2, -2],\n       [ 2, -2, -2,  2]])"
     },
     "execution_count": 41,
     "metadata": {},
     "output_type": "execute_result"
    }
   ],
   "source": [
    "np.where(arr > 0, 2, -2) # Notice scalar values"
   ]
  },
  {
   "cell_type": "code",
   "execution_count": 42,
   "metadata": {},
   "outputs": [
    {
     "data": {
      "text/plain": "array([[-1.34442858, -0.22415757, -0.202001  , -1.1283505 ],\n       [ 2.        , -2.2118608 ,  2.        ,  2.        ],\n       [ 2.        , -0.63251531, -2.01212949, -0.25631886],\n       [ 2.        , -0.66792207, -0.5912106 ,  2.        ]])"
     },
     "execution_count": 42,
     "metadata": {},
     "output_type": "execute_result"
    }
   ],
   "source": [
    "np.where(arr > 0 , 2, arr) # set only positive values to 2"
   ]
  },
  {
   "cell_type": "markdown",
   "metadata": {},
   "source": [
    "## Mathematical and Statistical Methods\n",
    "\n",
    "A number of Mathematical and Statistical functions are available in NumPy, which can be invoked by either by calling the array instance method or using the top-level NumPy function.\n"
   ]
  },
  {
   "cell_type": "code",
   "execution_count": 43,
   "metadata": {},
   "outputs": [
    {
     "data": {
      "text/plain": "array([[-1.33147718, -1.01513599,  1.3745481 , -0.77421425],\n       [ 2.46558912, -0.48562254,  0.30100294,  0.90527712],\n       [ 0.91585537,  1.47200443,  0.38878379, -0.59650421],\n       [ 1.01106937, -0.10655818,  0.39089513, -0.53857353],\n       [ 0.04943601,  1.18077449, -0.20049389, -1.24106032]])"
     },
     "execution_count": 43,
     "metadata": {},
     "output_type": "execute_result"
    }
   ],
   "source": [
    "arr = np.random.randn(5,4)\n",
    "arr"
   ]
  },
  {
   "cell_type": "code",
   "execution_count": 45,
   "metadata": {},
   "outputs": [
    {
     "name": "stdout",
     "output_type": "stream",
     "text": "0.20827978936266484\n0.20827978936266484\n"
    }
   ],
   "source": [
    "print(arr.mean()) #instance method\n",
    "print(np.mean(arr)) #top-level function call"
   ]
  },
  {
   "cell_type": "code",
   "execution_count": 46,
   "metadata": {},
   "outputs": [
    {
     "name": "stdout",
     "output_type": "stream",
     "text": "4.165595787253297\n"
    }
   ],
   "source": [
    "print(arr.sum())"
   ]
  },
  {
   "cell_type": "markdown",
   "metadata": {},
   "source": [
    "`mean` and `sum` methods take an optional argument `axis` that computes the statistics over the given axis. "
   ]
  },
  {
   "cell_type": "code",
   "execution_count": 50,
   "metadata": {},
   "outputs": [
    {
     "name": "stdout",
     "output_type": "stream",
     "text": "[-0.43656983  0.79656166  0.54503485  0.1892082  -0.05283593]\n[-0.43656983  0.79656166  0.54503485  0.1892082  -0.05283593]\n"
    }
   ],
   "source": [
    "print(arr.mean(axis=1))\n",
    "print(arr.mean(1)) #alternative"
   ]
  },
  {
   "cell_type": "code",
   "execution_count": 51,
   "metadata": {},
   "outputs": [
    {
     "name": "stdout",
     "output_type": "stream",
     "text": "[ 3.11047269  1.04546221  2.25473608 -2.24507519]\n[ 3.11047269  1.04546221  2.25473608 -2.24507519]\n"
    }
   ],
   "source": [
    "print(arr.sum(axis=0))\n",
    "print(arr.sum(0)) #alternative"
   ]
  },
  {
   "cell_type": "markdown",
   "metadata": {},
   "source": [
    "Other methods like `cumsum` and `cumprod` do not aggregate, instead produce an array of intermediate results."
   ]
  },
  {
   "cell_type": "code",
   "execution_count": 54,
   "metadata": {},
   "outputs": [
    {
     "name": "stdout",
     "output_type": "stream",
     "text": "[ 0  1  3  6 10 15 21 28]\n[0 0 0 0 0 0 0 0]\n"
    }
   ],
   "source": [
    "arr = np.array([0,1,2,3,4,5,6,7])\n",
    "print(arr.cumsum())\n",
    "print(arr.cumprod())"
   ]
  },
  {
   "cell_type": "code",
   "execution_count": 57,
   "metadata": {},
   "outputs": [
    {
     "name": "stdout",
     "output_type": "stream",
     "text": "Array : {} [[0 1 2]\n [3 4 5]\n [6 7 8]]\nCumulative Sum on Axis 0 : {} [[ 0  1  2]\n [ 3  5  7]\n [ 9 12 15]]\nCumulative Product on Axis 1 : {} [[  0   0   0]\n [  3  12  60]\n [  6  42 336]]\n"
    }
   ],
   "source": [
    "#multi-dimensional array example\n",
    "arr = np.array([[0,1,2], [3,4,5], [6,7,8]])\n",
    "print('Array : {}', arr)\n",
    "print('Cumulative Sum on Axis 0 : {}', arr.cumsum(0))\n",
    "print('Cumulative Product on Axis 1 : {}', arr.cumprod(1))"
   ]
  },
  {
   "cell_type": "markdown",
   "metadata": {},
   "source": [
    "### Basic array statistical methods\n",
    "\n",
    "|Method|Description|\n",
    "|:------|:----------|\n",
    "|sum|Sum of all the elements in the array or along an axis; zero-length arrays have sum 0|\n",
    "|mean|Arithmetic mean; zero-length arrays habe NaN mean.|\n",
    "|std, var|Standard deviation and variance, respectively, with optional degrees of freedom adjustment (default denominator n)|\n",
    "|min, max|Minimum and Maximum|\n",
    "|argmin, argmax|Indices of minimum and maximum elements, respectively|\n",
    "|cumsum|Cumulative sum of elements starting form 0|\n",
    "|cumprod|Cumulative product of elements starting form 1|\n"
   ]
  },
  {
   "cell_type": "markdown",
   "metadata": {},
   "source": [
    "## Methods for Boolean Arrays\n",
    "\n",
    "Boolean values are coerced to 1(True) or 0(False) in the preceding methods. Example:    "
   ]
  },
  {
   "cell_type": "code",
   "execution_count": 58,
   "metadata": {},
   "outputs": [
    {
     "data": {
      "text/plain": "50"
     },
     "execution_count": 58,
     "metadata": {},
     "output_type": "execute_result"
    }
   ],
   "source": [
    "arr = np.random.randn(100)\n",
    "(arr > 0).sum()"
   ]
  },
  {
   "cell_type": "code",
   "execution_count": 59,
   "metadata": {},
   "outputs": [
    {
     "name": "stdout",
     "output_type": "stream",
     "text": "True\nFalse\n"
    }
   ],
   "source": [
    "bools = np.array([False, False, True, False])\n",
    "print(bools.any())\n",
    "print(bools.all())"
   ]
  },
  {
   "cell_type": "markdown",
   "metadata": {},
   "source": [
    "### Sorting \n",
    "\n",
    "NumPy arrays can be sorted in-place with the sort method."
   ]
  },
  {
   "cell_type": "code",
   "execution_count": 60,
   "metadata": {},
   "outputs": [
    {
     "data": {
      "text/plain": "array([ 2.35495585, -0.16129096,  0.03098046,  1.60530141, -0.58381932,\n       -0.45708234])"
     },
     "execution_count": 60,
     "metadata": {},
     "output_type": "execute_result"
    }
   ],
   "source": [
    "arr = np.random.randn(6)\n",
    "arr"
   ]
  },
  {
   "cell_type": "code",
   "execution_count": 62,
   "metadata": {},
   "outputs": [
    {
     "data": {
      "text/plain": "array([-0.58381932, -0.45708234, -0.16129096,  0.03098046,  1.60530141,\n        2.35495585])"
     },
     "execution_count": 62,
     "metadata": {},
     "output_type": "execute_result"
    }
   ],
   "source": [
    "arr.sort() #in-place sorting\n",
    "arr"
   ]
  },
  {
   "cell_type": "markdown",
   "metadata": {},
   "source": [
    "Dimensional sort in multi-dimensional array."
   ]
  },
  {
   "cell_type": "code",
   "execution_count": 63,
   "metadata": {},
   "outputs": [
    {
     "data": {
      "text/plain": "array([[-0.01121242, -1.8402362 , -1.34830232],\n       [-0.29300449, -1.04045303,  1.53627942],\n       [ 0.34883845,  0.4179287 , -0.46265807],\n       [ 0.46765221, -0.29856712, -0.54524751],\n       [-1.00949928, -0.81401729,  0.94440633]])"
     },
     "execution_count": 63,
     "metadata": {},
     "output_type": "execute_result"
    }
   ],
   "source": [
    "arr = np.random.randn(5,3)\n",
    "arr"
   ]
  },
  {
   "cell_type": "code",
   "execution_count": 64,
   "metadata": {},
   "outputs": [
    {
     "data": {
      "text/plain": "array([[-1.8402362 , -1.34830232, -0.01121242],\n       [-1.04045303, -0.29300449,  1.53627942],\n       [-0.46265807,  0.34883845,  0.4179287 ],\n       [-0.54524751, -0.29856712,  0.46765221],\n       [-1.00949928, -0.81401729,  0.94440633]])"
     },
     "execution_count": 64,
     "metadata": {},
     "output_type": "execute_result"
    }
   ],
   "source": [
    "arr.sort(1)\n",
    "arr"
   ]
  },
  {
   "cell_type": "markdown",
   "metadata": {},
   "source": [
    "## Unique and Other Set Logic"
   ]
  },
  {
   "cell_type": "code",
   "execution_count": 66,
   "metadata": {},
   "outputs": [
    {
     "data": {
      "text/plain": "array(['Bob', 'Joe', 'Will'], dtype='<U4')"
     },
     "execution_count": 66,
     "metadata": {},
     "output_type": "execute_result"
    }
   ],
   "source": [
    "names = np.array(['Bob', 'Joe', 'Will', 'Bob', 'Will', 'Joe', 'Joe'])\n",
    "np.unique(names)"
   ]
  },
  {
   "cell_type": "code",
   "execution_count": 67,
   "metadata": {},
   "outputs": [
    {
     "data": {
      "text/plain": "array([1, 2, 3, 4, 7, 8])"
     },
     "execution_count": 67,
     "metadata": {},
     "output_type": "execute_result"
    }
   ],
   "source": [
    "ints = np.array([3,3,3,3,2,2,1,1,4,4,7,8])\n",
    "np.unique(ints)"
   ]
  },
  {
   "cell_type": "code",
   "execution_count": 68,
   "metadata": {},
   "outputs": [
    {
     "data": {
      "text/plain": "['Bob', 'Joe', 'Will']"
     },
     "execution_count": 68,
     "metadata": {},
     "output_type": "execute_result"
    }
   ],
   "source": [
    "sorted(set(names))"
   ]
  },
  {
   "cell_type": "markdown",
   "metadata": {},
   "source": [
    "Membership test for 1d array using `np.in1d`."
   ]
  },
  {
   "cell_type": "code",
   "execution_count": 70,
   "metadata": {},
   "outputs": [
    {
     "data": {
      "text/plain": "array([False, False, False,  True,  True,  True, False])"
     },
     "execution_count": 70,
     "metadata": {},
     "output_type": "execute_result"
    }
   ],
   "source": [
    "values = np.array([6,0,0,3,2,5,6])\n",
    "np.in1d(values, [2,3,5])"
   ]
  },
  {
   "cell_type": "markdown",
   "metadata": {},
   "source": [
    "### Array set operations\n",
    "\n",
    "|Method|Description|\n",
    "|:------|:---------|\n",
    "|unique(x)|Compute sorted, unique elements in x|\n",
    "|intersect1d(x,y)| Compute sorted, common elements in x and y|\n",
    "|union1d(x,y)| Compute the sorted union of elements|\n",
    "|in1d(x,y)|Complete a boolean arrat indicating whether each element of x is contained in y|\n",
    "|setdiff1d(x,y)|Set difference, elements in x that are not in y|\n",
    "|setor1d(x,y)|Set sunnetric differences; elements that are in either of the arrays, but not both|"
   ]
  },
  {
   "cell_type": "markdown",
   "metadata": {},
   "source": [
    "## File Input and Output with Arrays\n",
    "\n",
    "In NumPy, it is possible to serialize and deserialize array objects in text or binary formats. This can be achieved by `np.save` and `np.load` functions. Arrays are saved by default in an uncompressed raw binary format with file extension `.npy`."
   ]
  },
  {
   "cell_type": "code",
   "execution_count": 71,
   "metadata": {},
   "outputs": [
    {
     "data": {
      "text/plain": "array([0, 1, 2, 3, 4, 5, 6, 7, 8, 9])"
     },
     "execution_count": 71,
     "metadata": {},
     "output_type": "execute_result"
    }
   ],
   "source": [
    "arr = np.arange(10)\n",
    "arr"
   ]
  },
  {
   "cell_type": "code",
   "execution_count": 72,
   "metadata": {},
   "outputs": [],
   "source": [
    "np.save('some_array', arr)"
   ]
  },
  {
   "cell_type": "code",
   "execution_count": 73,
   "metadata": {},
   "outputs": [
    {
     "data": {
      "text/plain": "array([0, 1, 2, 3, 4, 5, 6, 7, 8, 9])"
     },
     "execution_count": 73,
     "metadata": {},
     "output_type": "execute_result"
    }
   ],
   "source": [
    "np.load('some_array.npy')"
   ]
  },
  {
   "cell_type": "markdown",
   "metadata": {},
   "source": [
    "Multiple arrays can be saved in an uncompressed archiive using `np.savez` and passing arrays as keyword arguments. `np.savez_compressed()` method will compression."
   ]
  },
  {
   "cell_type": "code",
   "execution_count": 74,
   "metadata": {},
   "outputs": [],
   "source": [
    "np.savez('array_archive.npz', a=arr,b=arr)"
   ]
  },
  {
   "cell_type": "code",
   "execution_count": 75,
   "metadata": {},
   "outputs": [
    {
     "name": "stdout",
     "output_type": "stream",
     "text": "[0 1 2 3 4 5 6 7 8 9]\n[0 1 2 3 4 5 6 7 8 9]\n"
    }
   ],
   "source": [
    "arch = np.load('array_archive.npz')\n",
    "print(arch['a'])\n",
    "print(arch['b'])"
   ]
  },
  {
   "cell_type": "markdown",
   "metadata": {},
   "source": [
    "## Linear Algebra\n",
    "\n",
    "A number of Linear Algebra functions are possible in NumPy. Matrix, multiplication, decomposition, determinats and other square matrix math is possible. Below is an illustration of the Linear Algebra capabilities."
   ]
  },
  {
   "cell_type": "code",
   "execution_count": 79,
   "metadata": {},
   "outputs": [],
   "source": [
    "x = np.array([[1.,2.,3.],[4.,5.,6.]])\n",
    "y = np.array([[6., 23.],[-1,7],[8,9]])"
   ]
  },
  {
   "cell_type": "code",
   "execution_count": 80,
   "metadata": {},
   "outputs": [
    {
     "data": {
      "text/plain": "array([[1., 2., 3.],\n       [4., 5., 6.]])"
     },
     "execution_count": 80,
     "metadata": {},
     "output_type": "execute_result"
    }
   ],
   "source": [
    "x"
   ]
  },
  {
   "cell_type": "code",
   "execution_count": 81,
   "metadata": {},
   "outputs": [
    {
     "data": {
      "text/plain": "array([[ 6., 23.],\n       [-1.,  7.],\n       [ 8.,  9.]])"
     },
     "execution_count": 81,
     "metadata": {},
     "output_type": "execute_result"
    }
   ],
   "source": [
    "y"
   ]
  },
  {
   "cell_type": "code",
   "execution_count": 82,
   "metadata": {},
   "outputs": [
    {
     "data": {
      "text/plain": "array([[ 28.,  64.],\n       [ 67., 181.]])"
     },
     "execution_count": 82,
     "metadata": {},
     "output_type": "execute_result"
    }
   ],
   "source": [
    "x.dot(y) # Dot product (Matrix Multiplication)"
   ]
  },
  {
   "cell_type": "code",
   "execution_count": 83,
   "metadata": {},
   "outputs": [
    {
     "data": {
      "text/plain": "array([ 6., 15.])"
     },
     "execution_count": 83,
     "metadata": {},
     "output_type": "execute_result"
    }
   ],
   "source": [
    "np.dot(x, np.ones(3))"
   ]
  },
  {
   "cell_type": "code",
   "execution_count": 84,
   "metadata": {},
   "outputs": [
    {
     "data": {
      "text/plain": "array([ 6., 15.])"
     },
     "execution_count": 84,
     "metadata": {},
     "output_type": "execute_result"
    }
   ],
   "source": [
    "x @ np.ones(3) #alternate notation for dot product"
   ]
  },
  {
   "cell_type": "markdown",
   "metadata": {},
   "source": [
    "`numpy.linalg` has a standard set of matrix decomposition and helper methods like inverse and determinants. These methods are implemented under  the hood via the same industry-standard libraries used in other languages like MATLAB and R, such as BLAS, LAPACK etc."
   ]
  },
  {
   "cell_type": "code",
   "execution_count": 86,
   "metadata": {},
   "outputs": [
    {
     "data": {
      "text/plain": "array([[ 1.50748077, -0.69149885, -0.79694794, -0.20054537,  1.4602974 ],\n       [-0.69149885,  1.35370083,  0.63123756, -0.44513453, -0.95917936],\n       [-0.79694794,  0.63123756,  1.06418252,  0.13495156, -1.20384524],\n       [-0.20054537, -0.44513453,  0.13495156,  1.59315151, -0.69059596],\n       [ 1.4602974 , -0.95917936, -1.20384524, -0.69059596,  2.4612038 ]])"
     },
     "execution_count": 86,
     "metadata": {},
     "output_type": "execute_result"
    }
   ],
   "source": [
    "from numpy.linalg import inv, qr\n",
    "\n",
    "X = np.random.randn(5,5)\n",
    "mat = X.T.dot(X)\n",
    "inv(mat)"
   ]
  },
  {
   "cell_type": "code",
   "execution_count": 88,
   "metadata": {},
   "outputs": [
    {
     "data": {
      "text/plain": "array([[ 1.00000000e+00,  1.25476542e-16,  7.14002426e-17,\n        -9.46549982e-17,  1.50217908e-16],\n       [-5.14377153e-17,  1.00000000e+00,  3.65154309e-17,\n         1.74143414e-16,  6.82745509e-17],\n       [-2.94605133e-16,  1.18059950e-16,  1.00000000e+00,\n         1.79708089e-16, -6.94696607e-16],\n       [-1.60789809e-16,  1.88097160e-16, -1.04046721e-16,\n         1.00000000e+00, -1.45336555e-16],\n       [-2.14521911e-16, -4.04271125e-17, -6.23726048e-16,\n        -1.51290082e-16,  1.00000000e+00]])"
     },
     "execution_count": 88,
     "metadata": {},
     "output_type": "execute_result"
    }
   ],
   "source": [
    "mat.dot(inv(mat)) # notice this is identity matrix however the 0 places are infinitesimally small.  "
   ]
  },
  {
   "cell_type": "code",
   "execution_count": 89,
   "metadata": {},
   "outputs": [],
   "source": [
    "q,r = qr(mat)"
   ]
  },
  {
   "cell_type": "code",
   "execution_count": 90,
   "metadata": {},
   "outputs": [
    {
     "data": {
      "text/plain": "array([[-0.86062963, -0.20371988, -0.11289084, -0.10883629,  0.43957385],\n       [-0.01237592, -0.84951986,  0.08571105,  0.43295733, -0.28872897],\n       [-0.09940685,  0.08760624, -0.91613214,  0.10875613, -0.36237748],\n       [ 0.1079363 , -0.39046031, -0.07216704, -0.88739391, -0.20788089],\n       [ 0.48747462, -0.27691175, -0.3679716 ,  0.03750684,  0.74086336]])"
     },
     "execution_count": 90,
     "metadata": {},
     "output_type": "execute_result"
    }
   ],
   "source": [
    "q"
   ]
  },
  {
   "cell_type": "code",
   "execution_count": 91,
   "metadata": {},
   "outputs": [
    {
     "data": {
      "text/plain": "array([[-1.92533253,  0.43247423,  0.10851594,  0.69918378,  1.75822212],\n       [ 0.        , -1.94398252, -0.00424766, -1.32741816, -1.24466036],\n       [ 0.        ,  0.        , -2.51497772, -0.48989862, -1.5171184 ],\n       [ 0.        ,  0.        ,  0.        , -0.62661516, -0.16058445],\n       [ 0.        ,  0.        ,  0.        ,  0.        ,  0.30101666]])"
     },
     "execution_count": 91,
     "metadata": {},
     "output_type": "execute_result"
    }
   ],
   "source": [
    "r"
   ]
  },
  {
   "cell_type": "markdown",
   "metadata": {},
   "source": [
    "### Commonly used `numpy.linalg` function\n",
    "\n",
    "|Function|Description|\n",
    "|:--------|:-----------|\n",
    "|diag| Return the diagonal(or off-diagonal) elements of a square matrix as a 1D array, or convert a 1D array into a square matrix with zeros on the off-diagonal|\n",
    "|dot|Matrix multiplication|\n",
    "|trace|Compute the sum of the diagonal elements|\n",
    "|det|Compute the matrix determinant|\n",
    "|eig|Compute the eigenvalues and eigenvectors of a square matrix|\n",
    "|inv|Compute the inverse of a square matrix|\n",
    "|pinv|Compute the Moore-Penrose pseudo-inverse of a matrix|\n",
    "|qr|Compute the QR decomposition|\n",
    "|svd|Compute the singular value decomposition (SVD)|\n",
    "|solve|Solve the linear system Ax = b for x, where A is a square matrix|\n",
    "|lstsq|Compute the least square soltion to Ax = b|\n"
   ]
  }
 ]
}